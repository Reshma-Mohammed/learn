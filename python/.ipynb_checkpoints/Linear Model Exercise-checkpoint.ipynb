{
 "cells": [
  {
   "cell_type": "code",
   "execution_count": null,
   "metadata": {},
   "outputs": [],
   "source": [
    "## linear regression exercise [ build ridge and lasso]\n",
    "\n",
    "## target : likes "
   ]
  },
  {
   "cell_type": "code",
   "execution_count": 1,
   "metadata": {},
   "outputs": [],
   "source": [
    "file=r'/Users/lalitsachan/Dropbox/Trainings/DeloitteMarchPythonMLHydMarch2020/facebook_comments.csv'"
   ]
  },
  {
   "cell_type": "code",
   "execution_count": 2,
   "metadata": {},
   "outputs": [],
   "source": [
    "import pandas as pd\n",
    "fb=pd.read_csv(file)"
   ]
  },
  {
   "cell_type": "code",
   "execution_count": 3,
   "metadata": {},
   "outputs": [
    {
     "data": {
      "text/html": [
       "<div>\n",
       "<style scoped>\n",
       "    .dataframe tbody tr th:only-of-type {\n",
       "        vertical-align: middle;\n",
       "    }\n",
       "\n",
       "    .dataframe tbody tr th {\n",
       "        vertical-align: top;\n",
       "    }\n",
       "\n",
       "    .dataframe thead th {\n",
       "        text-align: right;\n",
       "    }\n",
       "</style>\n",
       "<table border=\"1\" class=\"dataframe\">\n",
       "  <thead>\n",
       "    <tr style=\"text-align: right;\">\n",
       "      <th></th>\n",
       "      <th>likes</th>\n",
       "      <th>checkins</th>\n",
       "      <th>talking_about</th>\n",
       "      <th>page_category</th>\n",
       "      <th>feat5</th>\n",
       "      <th>feat6</th>\n",
       "      <th>feat7</th>\n",
       "      <th>feat8</th>\n",
       "      <th>feat9</th>\n",
       "      <th>feat10</th>\n",
       "      <th>...</th>\n",
       "      <th>CC4</th>\n",
       "      <th>CC5</th>\n",
       "      <th>Base_Time</th>\n",
       "      <th>Post_Length</th>\n",
       "      <th>Post Share Count</th>\n",
       "      <th>Post Promotion Status</th>\n",
       "      <th>H local</th>\n",
       "      <th>Comments_in_next_H_hrs</th>\n",
       "      <th>Post Published Weekday</th>\n",
       "      <th>Base Date Time Weekday</th>\n",
       "    </tr>\n",
       "  </thead>\n",
       "  <tbody>\n",
       "    <tr>\n",
       "      <th>0</th>\n",
       "      <td>634995</td>\n",
       "      <td>0</td>\n",
       "      <td>463</td>\n",
       "      <td>Product/service</td>\n",
       "      <td>0.0</td>\n",
       "      <td>806.0</td>\n",
       "      <td>11.291045</td>\n",
       "      <td>1.0</td>\n",
       "      <td>70.495138</td>\n",
       "      <td>0.0</td>\n",
       "      <td>...</td>\n",
       "      <td>0</td>\n",
       "      <td>0</td>\n",
       "      <td>65</td>\n",
       "      <td>166</td>\n",
       "      <td>2</td>\n",
       "      <td>0</td>\n",
       "      <td>24</td>\n",
       "      <td>0</td>\n",
       "      <td>Wednesday</td>\n",
       "      <td>Saturday</td>\n",
       "    </tr>\n",
       "    <tr>\n",
       "      <th>1</th>\n",
       "      <td>634995</td>\n",
       "      <td>0</td>\n",
       "      <td>463</td>\n",
       "      <td>Product/service</td>\n",
       "      <td>0.0</td>\n",
       "      <td>806.0</td>\n",
       "      <td>11.291045</td>\n",
       "      <td>1.0</td>\n",
       "      <td>70.495138</td>\n",
       "      <td>0.0</td>\n",
       "      <td>...</td>\n",
       "      <td>0</td>\n",
       "      <td>0</td>\n",
       "      <td>10</td>\n",
       "      <td>132</td>\n",
       "      <td>1</td>\n",
       "      <td>0</td>\n",
       "      <td>24</td>\n",
       "      <td>0</td>\n",
       "      <td>Thursday</td>\n",
       "      <td>Friday</td>\n",
       "    </tr>\n",
       "    <tr>\n",
       "      <th>2</th>\n",
       "      <td>634995</td>\n",
       "      <td>0</td>\n",
       "      <td>463</td>\n",
       "      <td>Product/service</td>\n",
       "      <td>0.0</td>\n",
       "      <td>806.0</td>\n",
       "      <td>11.291045</td>\n",
       "      <td>1.0</td>\n",
       "      <td>70.495138</td>\n",
       "      <td>0.0</td>\n",
       "      <td>...</td>\n",
       "      <td>0</td>\n",
       "      <td>0</td>\n",
       "      <td>14</td>\n",
       "      <td>133</td>\n",
       "      <td>2</td>\n",
       "      <td>0</td>\n",
       "      <td>24</td>\n",
       "      <td>0</td>\n",
       "      <td>Friday</td>\n",
       "      <td>Saturday</td>\n",
       "    </tr>\n",
       "    <tr>\n",
       "      <th>3</th>\n",
       "      <td>634995</td>\n",
       "      <td>0</td>\n",
       "      <td>463</td>\n",
       "      <td>Product/service</td>\n",
       "      <td>0.0</td>\n",
       "      <td>806.0</td>\n",
       "      <td>11.291045</td>\n",
       "      <td>1.0</td>\n",
       "      <td>70.495138</td>\n",
       "      <td>0.0</td>\n",
       "      <td>...</td>\n",
       "      <td>7</td>\n",
       "      <td>-3</td>\n",
       "      <td>62</td>\n",
       "      <td>131</td>\n",
       "      <td>1</td>\n",
       "      <td>0</td>\n",
       "      <td>24</td>\n",
       "      <td>0</td>\n",
       "      <td>Friday</td>\n",
       "      <td>Monday</td>\n",
       "    </tr>\n",
       "    <tr>\n",
       "      <th>4</th>\n",
       "      <td>634995</td>\n",
       "      <td>0</td>\n",
       "      <td>463</td>\n",
       "      <td>Product/service</td>\n",
       "      <td>0.0</td>\n",
       "      <td>806.0</td>\n",
       "      <td>11.291045</td>\n",
       "      <td>1.0</td>\n",
       "      <td>70.495138</td>\n",
       "      <td>0.0</td>\n",
       "      <td>...</td>\n",
       "      <td>1</td>\n",
       "      <td>0</td>\n",
       "      <td>58</td>\n",
       "      <td>142</td>\n",
       "      <td>5</td>\n",
       "      <td>0</td>\n",
       "      <td>24</td>\n",
       "      <td>0</td>\n",
       "      <td>Monday</td>\n",
       "      <td>Wednesday</td>\n",
       "    </tr>\n",
       "  </tbody>\n",
       "</table>\n",
       "<p>5 rows × 42 columns</p>\n",
       "</div>"
      ],
      "text/plain": [
       "    likes  checkins  talking_about    page_category  feat5  feat6      feat7  \\\n",
       "0  634995         0            463  Product/service    0.0  806.0  11.291045   \n",
       "1  634995         0            463  Product/service    0.0  806.0  11.291045   \n",
       "2  634995         0            463  Product/service    0.0  806.0  11.291045   \n",
       "3  634995         0            463  Product/service    0.0  806.0  11.291045   \n",
       "4  634995         0            463  Product/service    0.0  806.0  11.291045   \n",
       "\n",
       "   feat8      feat9  feat10  ...  CC4  CC5  Base_Time  Post_Length  \\\n",
       "0    1.0  70.495138     0.0  ...    0    0         65          166   \n",
       "1    1.0  70.495138     0.0  ...    0    0         10          132   \n",
       "2    1.0  70.495138     0.0  ...    0    0         14          133   \n",
       "3    1.0  70.495138     0.0  ...    7   -3         62          131   \n",
       "4    1.0  70.495138     0.0  ...    1    0         58          142   \n",
       "\n",
       "   Post Share Count  Post Promotion Status  H local  Comments_in_next_H_hrs  \\\n",
       "0                 2                      0       24                       0   \n",
       "1                 1                      0       24                       0   \n",
       "2                 2                      0       24                       0   \n",
       "3                 1                      0       24                       0   \n",
       "4                 5                      0       24                       0   \n",
       "\n",
       "   Post Published Weekday  Base Date Time Weekday  \n",
       "0               Wednesday                Saturday  \n",
       "1                Thursday                  Friday  \n",
       "2                  Friday                Saturday  \n",
       "3                  Friday                  Monday  \n",
       "4                  Monday               Wednesday  \n",
       "\n",
       "[5 rows x 42 columns]"
      ]
     },
     "execution_count": 3,
     "metadata": {},
     "output_type": "execute_result"
    }
   ],
   "source": [
    "fb.head()"
   ]
  },
  {
   "cell_type": "code",
   "execution_count": 9,
   "metadata": {},
   "outputs": [
    {
     "data": {
      "text/plain": [
       "(40949, 42)"
      ]
     },
     "execution_count": 9,
     "metadata": {},
     "output_type": "execute_result"
    }
   ],
   "source": [
    "fb.shape"
   ]
  },
  {
   "cell_type": "code",
   "execution_count": 10,
   "metadata": {},
   "outputs": [],
   "source": [
    "###\n",
    "# replace sunday,monday... with numbers ‘Post Published Weekday’and’Base Date Time Weekday’\n",
    "# covert them to their cyclic represenation \n",
    "# create dummies for page_category with frequency cutoff 500\n",
    "\n",
    "# break your data in to 80/20\n",
    "# build ridge and lasso models [ with grid search for penalty] \n",
    "# regression models on 80% of the data and check their performance(mae) on 20%\n",
    "day_num_dict={'Sunday':1,'Monday':2,'Tuesday':3,\n",
    "              'Wednesday':4,'Thursday':5,'Friday':6,'Saturday':7}"
   ]
  },
  {
   "cell_type": "code",
   "execution_count": 11,
   "metadata": {},
   "outputs": [],
   "source": [
    "import numpy as np"
   ]
  },
  {
   "cell_type": "code",
   "execution_count": 12,
   "metadata": {},
   "outputs": [],
   "source": [
    "for col in ['Post Published Weekday','Base Date Time Weekday']:\n",
    "    fb[col].replace(day_num_dict,inplace=True)\n",
    "    name_sin=col+'_sin'\n",
    "    name_cos=col+'_cos'\n",
    "    fb[name_sin]=np.sin(2*np.pi*fb[col]/7)\n",
    "    fb[name_cos]=np.cos(2*np.pi*fb[col]/7)\n",
    "    \n",
    "    del fb[col]"
   ]
  },
  {
   "cell_type": "code",
   "execution_count": 15,
   "metadata": {},
   "outputs": [],
   "source": [
    "# fb.columns"
   ]
  },
  {
   "cell_type": "code",
   "execution_count": 16,
   "metadata": {},
   "outputs": [],
   "source": [
    "col='page_category'\n",
    "freqs=fb[col].value_counts()\n",
    "    \n",
    "k=freqs.index[freqs>500][:-1]\n",
    "\n",
    "for cat in k:\n",
    "    name=col+'_'+cat\n",
    "    fb[name]=(fb[col]==cat).astype(int)\n",
    "\n",
    "del fb[col]\n"
   ]
  },
  {
   "cell_type": "code",
   "execution_count": 17,
   "metadata": {},
   "outputs": [
    {
     "data": {
      "text/plain": [
       "(40949, 57)"
      ]
     },
     "execution_count": 17,
     "metadata": {},
     "output_type": "execute_result"
    }
   ],
   "source": [
    "fb.shape"
   ]
  },
  {
   "cell_type": "code",
   "execution_count": 18,
   "metadata": {},
   "outputs": [],
   "source": [
    "from sklearn.model_selection import train_test_split"
   ]
  },
  {
   "cell_type": "code",
   "execution_count": 19,
   "metadata": {},
   "outputs": [],
   "source": [
    "fb_train,fb_test=train_test_split(fb,test_size=0.2,random_state=2)"
   ]
  },
  {
   "cell_type": "code",
   "execution_count": 20,
   "metadata": {},
   "outputs": [],
   "source": [
    "from sklearn.linear_model import Ridge,Lasso\n",
    "from sklearn.model_selection import GridSearchCV"
   ]
  },
  {
   "cell_type": "code",
   "execution_count": 21,
   "metadata": {},
   "outputs": [],
   "source": [
    "lm=Ridge(fit_intercept=True)"
   ]
  },
  {
   "cell_type": "code",
   "execution_count": 29,
   "metadata": {},
   "outputs": [],
   "source": [
    "params={'alpha':np.linspace(1,10000,100)}"
   ]
  },
  {
   "cell_type": "code",
   "execution_count": 30,
   "metadata": {},
   "outputs": [],
   "source": [
    "grid=GridSearchCV(lm,param_grid=params,cv=10,scoring='neg_mean_absolute_error',\n",
    "                 n_jobs=-1,verbose=20)"
   ]
  },
  {
   "cell_type": "code",
   "execution_count": 31,
   "metadata": {},
   "outputs": [],
   "source": [
    "x_train=fb_train.drop(['likes'],1)\n",
    "y_train=fb_train['likes']"
   ]
  },
  {
   "cell_type": "code",
   "execution_count": 33,
   "metadata": {},
   "outputs": [],
   "source": [
    "grid.fit(x_train,y_train)"
   ]
  },
  {
   "cell_type": "code",
   "execution_count": 34,
   "metadata": {},
   "outputs": [],
   "source": [
    "def report(results, n_top=3):\n",
    "    for i in range(1, n_top + 1):\n",
    "        candidates = np.flatnonzero(results['rank_test_score'] == i)\n",
    "        for candidate in candidates:\n",
    "            print(\"Model with rank: {0}\".format(i))\n",
    "            print(\"Mean validation score: {0:.5f} (std: {1:.5f})\".format(\n",
    "                  results['mean_test_score'][candidate],\n",
    "                  results['std_test_score'][candidate]))\n",
    "            print(\"Parameters: {0}\".format(results['params'][candidate]))\n",
    "            print(\"\")"
   ]
  },
  {
   "cell_type": "code",
   "execution_count": 35,
   "metadata": {},
   "outputs": [
    {
     "name": "stdout",
     "output_type": "stream",
     "text": [
      "Model with rank: 1\n",
      "Mean validation score: -1410279.57688 (std: 91866.79822)\n",
      "Parameters: {'alpha': 2930.0}\n",
      "\n",
      "Model with rank: 2\n",
      "Mean validation score: -1410279.80935 (std: 91884.29938)\n",
      "Parameters: {'alpha': 2829.0}\n",
      "\n",
      "Model with rank: 3\n",
      "Mean validation score: -1410280.97152 (std: 91851.72259)\n",
      "Parameters: {'alpha': 3031.0}\n",
      "\n",
      "Model with rank: 4\n",
      "Mean validation score: -1410285.44647 (std: 91904.82007)\n",
      "Parameters: {'alpha': 2728.0}\n",
      "\n",
      "Model with rank: 5\n",
      "Mean validation score: -1410285.53149 (std: 91838.67087)\n",
      "Parameters: {'alpha': 3132.0}\n",
      "\n"
     ]
    }
   ],
   "source": [
    "report(grid.cv_results_,5)"
   ]
  },
  {
   "cell_type": "code",
   "execution_count": 37,
   "metadata": {},
   "outputs": [],
   "source": [
    "test_pred=grid.predict(fb_test.drop(['likes'],1))"
   ]
  },
  {
   "cell_type": "code",
   "execution_count": 38,
   "metadata": {},
   "outputs": [],
   "source": [
    "from sklearn.metrics import mean_absolute_error"
   ]
  },
  {
   "cell_type": "code",
   "execution_count": 39,
   "metadata": {},
   "outputs": [
    {
     "data": {
      "text/plain": [
       "1345426.5151445386"
      ]
     },
     "execution_count": 39,
     "metadata": {},
     "output_type": "execute_result"
    }
   ],
   "source": [
    "mean_absolute_error(test_pred,fb_test['likes'])"
   ]
  },
  {
   "cell_type": "code",
   "execution_count": null,
   "metadata": {},
   "outputs": [],
   "source": [
    "## logistic regression"
   ]
  },
  {
   "cell_type": "code",
   "execution_count": 4,
   "metadata": {},
   "outputs": [],
   "source": [
    "file=r'/Users/lalitsachan/Dropbox/Trainings/DeloitteMarchPythonMLHydMarch2020/default of credit card clients.xls'"
   ]
  },
  {
   "cell_type": "code",
   "execution_count": 7,
   "metadata": {},
   "outputs": [],
   "source": [
    "cc=pd.read_excel(file,skiprows=1)"
   ]
  },
  {
   "cell_type": "code",
   "execution_count": 8,
   "metadata": {},
   "outputs": [
    {
     "data": {
      "text/html": [
       "<div>\n",
       "<style scoped>\n",
       "    .dataframe tbody tr th:only-of-type {\n",
       "        vertical-align: middle;\n",
       "    }\n",
       "\n",
       "    .dataframe tbody tr th {\n",
       "        vertical-align: top;\n",
       "    }\n",
       "\n",
       "    .dataframe thead th {\n",
       "        text-align: right;\n",
       "    }\n",
       "</style>\n",
       "<table border=\"1\" class=\"dataframe\">\n",
       "  <thead>\n",
       "    <tr style=\"text-align: right;\">\n",
       "      <th></th>\n",
       "      <th>ID</th>\n",
       "      <th>LIMIT_BAL</th>\n",
       "      <th>SEX</th>\n",
       "      <th>EDUCATION</th>\n",
       "      <th>MARRIAGE</th>\n",
       "      <th>AGE</th>\n",
       "      <th>PAY_0</th>\n",
       "      <th>PAY_2</th>\n",
       "      <th>PAY_3</th>\n",
       "      <th>PAY_4</th>\n",
       "      <th>...</th>\n",
       "      <th>BILL_AMT4</th>\n",
       "      <th>BILL_AMT5</th>\n",
       "      <th>BILL_AMT6</th>\n",
       "      <th>PAY_AMT1</th>\n",
       "      <th>PAY_AMT2</th>\n",
       "      <th>PAY_AMT3</th>\n",
       "      <th>PAY_AMT4</th>\n",
       "      <th>PAY_AMT5</th>\n",
       "      <th>PAY_AMT6</th>\n",
       "      <th>default payment next month</th>\n",
       "    </tr>\n",
       "  </thead>\n",
       "  <tbody>\n",
       "    <tr>\n",
       "      <th>0</th>\n",
       "      <td>1</td>\n",
       "      <td>20000</td>\n",
       "      <td>2</td>\n",
       "      <td>2</td>\n",
       "      <td>1</td>\n",
       "      <td>24</td>\n",
       "      <td>2</td>\n",
       "      <td>2</td>\n",
       "      <td>-1</td>\n",
       "      <td>-1</td>\n",
       "      <td>...</td>\n",
       "      <td>0</td>\n",
       "      <td>0</td>\n",
       "      <td>0</td>\n",
       "      <td>0</td>\n",
       "      <td>689</td>\n",
       "      <td>0</td>\n",
       "      <td>0</td>\n",
       "      <td>0</td>\n",
       "      <td>0</td>\n",
       "      <td>1</td>\n",
       "    </tr>\n",
       "    <tr>\n",
       "      <th>1</th>\n",
       "      <td>2</td>\n",
       "      <td>120000</td>\n",
       "      <td>2</td>\n",
       "      <td>2</td>\n",
       "      <td>2</td>\n",
       "      <td>26</td>\n",
       "      <td>-1</td>\n",
       "      <td>2</td>\n",
       "      <td>0</td>\n",
       "      <td>0</td>\n",
       "      <td>...</td>\n",
       "      <td>3272</td>\n",
       "      <td>3455</td>\n",
       "      <td>3261</td>\n",
       "      <td>0</td>\n",
       "      <td>1000</td>\n",
       "      <td>1000</td>\n",
       "      <td>1000</td>\n",
       "      <td>0</td>\n",
       "      <td>2000</td>\n",
       "      <td>1</td>\n",
       "    </tr>\n",
       "    <tr>\n",
       "      <th>2</th>\n",
       "      <td>3</td>\n",
       "      <td>90000</td>\n",
       "      <td>2</td>\n",
       "      <td>2</td>\n",
       "      <td>2</td>\n",
       "      <td>34</td>\n",
       "      <td>0</td>\n",
       "      <td>0</td>\n",
       "      <td>0</td>\n",
       "      <td>0</td>\n",
       "      <td>...</td>\n",
       "      <td>14331</td>\n",
       "      <td>14948</td>\n",
       "      <td>15549</td>\n",
       "      <td>1518</td>\n",
       "      <td>1500</td>\n",
       "      <td>1000</td>\n",
       "      <td>1000</td>\n",
       "      <td>1000</td>\n",
       "      <td>5000</td>\n",
       "      <td>0</td>\n",
       "    </tr>\n",
       "    <tr>\n",
       "      <th>3</th>\n",
       "      <td>4</td>\n",
       "      <td>50000</td>\n",
       "      <td>2</td>\n",
       "      <td>2</td>\n",
       "      <td>1</td>\n",
       "      <td>37</td>\n",
       "      <td>0</td>\n",
       "      <td>0</td>\n",
       "      <td>0</td>\n",
       "      <td>0</td>\n",
       "      <td>...</td>\n",
       "      <td>28314</td>\n",
       "      <td>28959</td>\n",
       "      <td>29547</td>\n",
       "      <td>2000</td>\n",
       "      <td>2019</td>\n",
       "      <td>1200</td>\n",
       "      <td>1100</td>\n",
       "      <td>1069</td>\n",
       "      <td>1000</td>\n",
       "      <td>0</td>\n",
       "    </tr>\n",
       "    <tr>\n",
       "      <th>4</th>\n",
       "      <td>5</td>\n",
       "      <td>50000</td>\n",
       "      <td>1</td>\n",
       "      <td>2</td>\n",
       "      <td>1</td>\n",
       "      <td>57</td>\n",
       "      <td>-1</td>\n",
       "      <td>0</td>\n",
       "      <td>-1</td>\n",
       "      <td>0</td>\n",
       "      <td>...</td>\n",
       "      <td>20940</td>\n",
       "      <td>19146</td>\n",
       "      <td>19131</td>\n",
       "      <td>2000</td>\n",
       "      <td>36681</td>\n",
       "      <td>10000</td>\n",
       "      <td>9000</td>\n",
       "      <td>689</td>\n",
       "      <td>679</td>\n",
       "      <td>0</td>\n",
       "    </tr>\n",
       "  </tbody>\n",
       "</table>\n",
       "<p>5 rows × 25 columns</p>\n",
       "</div>"
      ],
      "text/plain": [
       "   ID  LIMIT_BAL  SEX  EDUCATION  MARRIAGE  AGE  PAY_0  PAY_2  PAY_3  PAY_4  \\\n",
       "0   1      20000    2          2         1   24      2      2     -1     -1   \n",
       "1   2     120000    2          2         2   26     -1      2      0      0   \n",
       "2   3      90000    2          2         2   34      0      0      0      0   \n",
       "3   4      50000    2          2         1   37      0      0      0      0   \n",
       "4   5      50000    1          2         1   57     -1      0     -1      0   \n",
       "\n",
       "   ...  BILL_AMT4  BILL_AMT5  BILL_AMT6  PAY_AMT1  PAY_AMT2  PAY_AMT3  \\\n",
       "0  ...          0          0          0         0       689         0   \n",
       "1  ...       3272       3455       3261         0      1000      1000   \n",
       "2  ...      14331      14948      15549      1518      1500      1000   \n",
       "3  ...      28314      28959      29547      2000      2019      1200   \n",
       "4  ...      20940      19146      19131      2000     36681     10000   \n",
       "\n",
       "   PAY_AMT4  PAY_AMT5  PAY_AMT6  default payment next month  \n",
       "0         0         0         0                           1  \n",
       "1      1000         0      2000                           1  \n",
       "2      1000      1000      5000                           0  \n",
       "3      1100      1069      1000                           0  \n",
       "4      9000       689       679                           0  \n",
       "\n",
       "[5 rows x 25 columns]"
      ]
     },
     "execution_count": 8,
     "metadata": {},
     "output_type": "execute_result"
    }
   ],
   "source": [
    "cc.head()\n",
    "# target is default payment next month"
   ]
  },
  {
   "cell_type": "code",
   "execution_count": 40,
   "metadata": {},
   "outputs": [],
   "source": [
    "# create dummies for SEX,EDUCATION,MARRIAGE\n",
    "# drop ID\n",
    "# Target  : default payment next month\n",
    "# split data into 80,20\n",
    "# build a logistic regression model [ tune for C, penalty and class_weight ]\n",
    "# find a cutoff on the basis of f1 score\n",
    "for col in ['SEX','EDUCATION','MARRIAGE']:\n",
    "    dummy=pd.get_dummies(cc[col],prefix=col,drop_first=True)\n",
    "    cc=pd.concat([cc,dummy],1)\n",
    "    \n",
    "    del cc[col]\n",
    "del dummy"
   ]
  },
  {
   "cell_type": "code",
   "execution_count": 41,
   "metadata": {},
   "outputs": [],
   "source": [
    "x=cc.drop(['default payment next month','ID'],1)\n",
    "y=cc['default payment next month']"
   ]
  },
  {
   "cell_type": "code",
   "execution_count": 42,
   "metadata": {},
   "outputs": [],
   "source": [
    "x_train,x_test,y_train,y_test=train_test_split(x,y,test_size=0.2,random_state=2)"
   ]
  },
  {
   "cell_type": "code",
   "execution_count": 43,
   "metadata": {},
   "outputs": [
    {
     "data": {
      "text/plain": [
       "(24000, 30)"
      ]
     },
     "execution_count": 43,
     "metadata": {},
     "output_type": "execute_result"
    }
   ],
   "source": [
    "x_train.shape"
   ]
  },
  {
   "cell_type": "code",
   "execution_count": 44,
   "metadata": {},
   "outputs": [
    {
     "data": {
      "text/plain": [
       "(24000,)"
      ]
     },
     "execution_count": 44,
     "metadata": {},
     "output_type": "execute_result"
    }
   ],
   "source": [
    "y_train.shape"
   ]
  },
  {
   "cell_type": "code",
   "execution_count": 50,
   "metadata": {},
   "outputs": [],
   "source": [
    "params={'C':np.linspace(1,1000,5),\n",
    "       'class_weight':['balanced',None],\n",
    "       'penalty':['l1','l2']}"
   ]
  },
  {
   "cell_type": "code",
   "execution_count": 51,
   "metadata": {},
   "outputs": [],
   "source": [
    "from sklearn.linear_model import LogisticRegression"
   ]
  },
  {
   "cell_type": "code",
   "execution_count": 52,
   "metadata": {},
   "outputs": [],
   "source": [
    "logr=LogisticRegression(fit_intercept=True)"
   ]
  },
  {
   "cell_type": "code",
   "execution_count": 53,
   "metadata": {},
   "outputs": [],
   "source": [
    "grid=GridSearchCV(logr,param_grid=params,cv=5,scoring='roc_auc',n_jobs=-1,\n",
    "                 verbose=20)"
   ]
  },
  {
   "cell_type": "code",
   "execution_count": 54,
   "metadata": {},
   "outputs": [
    {
     "name": "stdout",
     "output_type": "stream",
     "text": [
      "Fitting 10 folds for each of 80 candidates, totalling 800 fits\n"
     ]
    },
    {
     "name": "stderr",
     "output_type": "stream",
     "text": [
      "[Parallel(n_jobs=-1)]: Using backend LokyBackend with 12 concurrent workers.\n",
      "[Parallel(n_jobs=-1)]: Done   1 tasks      | elapsed:    4.6s\n",
      "[Parallel(n_jobs=-1)]: Done   2 tasks      | elapsed:    5.3s\n",
      "[Parallel(n_jobs=-1)]: Done   3 tasks      | elapsed:    6.2s\n",
      "[Parallel(n_jobs=-1)]: Done   4 tasks      | elapsed:    6.2s\n",
      "[Parallel(n_jobs=-1)]: Done   5 tasks      | elapsed:    6.3s\n",
      "[Parallel(n_jobs=-1)]: Done   6 tasks      | elapsed:    6.5s\n",
      "[Parallel(n_jobs=-1)]: Done   7 tasks      | elapsed:    6.7s\n",
      "[Parallel(n_jobs=-1)]: Done   8 tasks      | elapsed:    7.1s\n",
      "[Parallel(n_jobs=-1)]: Done   9 tasks      | elapsed:    7.2s\n",
      "[Parallel(n_jobs=-1)]: Done  10 tasks      | elapsed:    7.8s\n",
      "[Parallel(n_jobs=-1)]: Done  11 tasks      | elapsed:    8.2s\n",
      "[Parallel(n_jobs=-1)]: Done  12 tasks      | elapsed:    9.4s\n",
      "[Parallel(n_jobs=-1)]: Done  13 tasks      | elapsed:    9.5s\n",
      "[Parallel(n_jobs=-1)]: Done  14 tasks      | elapsed:    9.9s\n",
      "[Parallel(n_jobs=-1)]: Done  15 tasks      | elapsed:   10.4s\n",
      "[Parallel(n_jobs=-1)]: Done  16 tasks      | elapsed:   11.1s\n",
      "[Parallel(n_jobs=-1)]: Done  17 tasks      | elapsed:   11.2s\n",
      "[Parallel(n_jobs=-1)]: Done  18 tasks      | elapsed:   11.5s\n",
      "[Parallel(n_jobs=-1)]: Done  19 tasks      | elapsed:   12.0s\n",
      "[Parallel(n_jobs=-1)]: Done  20 tasks      | elapsed:   12.0s\n",
      "[Parallel(n_jobs=-1)]: Done  21 tasks      | elapsed:   12.0s\n",
      "[Parallel(n_jobs=-1)]: Done  22 tasks      | elapsed:   12.1s\n",
      "[Parallel(n_jobs=-1)]: Done  23 tasks      | elapsed:   12.4s\n",
      "[Parallel(n_jobs=-1)]: Done  24 tasks      | elapsed:   12.6s\n",
      "[Parallel(n_jobs=-1)]: Done  25 tasks      | elapsed:   12.8s\n",
      "[Parallel(n_jobs=-1)]: Done  26 tasks      | elapsed:   13.5s\n",
      "[Parallel(n_jobs=-1)]: Done  27 tasks      | elapsed:   14.3s\n",
      "[Parallel(n_jobs=-1)]: Done  28 tasks      | elapsed:   14.5s\n",
      "[Parallel(n_jobs=-1)]: Done  29 tasks      | elapsed:   14.6s\n",
      "[Parallel(n_jobs=-1)]: Done  30 tasks      | elapsed:   14.9s\n",
      "[Parallel(n_jobs=-1)]: Done  31 tasks      | elapsed:   15.3s\n",
      "[Parallel(n_jobs=-1)]: Done  32 tasks      | elapsed:   15.4s\n",
      "[Parallel(n_jobs=-1)]: Done  33 tasks      | elapsed:   15.5s\n",
      "[Parallel(n_jobs=-1)]: Done  34 tasks      | elapsed:   15.6s\n",
      "[Parallel(n_jobs=-1)]: Done  35 tasks      | elapsed:   15.8s\n",
      "[Parallel(n_jobs=-1)]: Done  36 tasks      | elapsed:   16.2s\n",
      "[Parallel(n_jobs=-1)]: Done  37 tasks      | elapsed:   16.8s\n",
      "[Parallel(n_jobs=-1)]: Done  38 tasks      | elapsed:   17.0s\n",
      "[Parallel(n_jobs=-1)]: Done  39 tasks      | elapsed:   17.9s\n",
      "[Parallel(n_jobs=-1)]: Done  40 tasks      | elapsed:   22.7s\n",
      "[Parallel(n_jobs=-1)]: Done  41 tasks      | elapsed:   23.8s\n",
      "[Parallel(n_jobs=-1)]: Done  42 tasks      | elapsed:   26.8s\n",
      "[Parallel(n_jobs=-1)]: Done  43 tasks      | elapsed:   28.4s\n",
      "[Parallel(n_jobs=-1)]: Done  44 tasks      | elapsed:   31.7s\n",
      "[Parallel(n_jobs=-1)]: Done  45 tasks      | elapsed:   32.9s\n",
      "[Parallel(n_jobs=-1)]: Done  46 tasks      | elapsed:   33.1s\n",
      "[Parallel(n_jobs=-1)]: Done  47 tasks      | elapsed:   36.1s\n",
      "[Parallel(n_jobs=-1)]: Done  48 tasks      | elapsed:   37.4s\n",
      "[Parallel(n_jobs=-1)]: Done  49 tasks      | elapsed:   37.4s\n",
      "[Parallel(n_jobs=-1)]: Done  50 tasks      | elapsed:   37.5s\n",
      "[Parallel(n_jobs=-1)]: Done  51 tasks      | elapsed:   39.5s\n",
      "[Parallel(n_jobs=-1)]: Done  52 tasks      | elapsed:   40.3s\n",
      "[Parallel(n_jobs=-1)]: Done  53 tasks      | elapsed:   40.4s\n",
      "[Parallel(n_jobs=-1)]: Done  54 tasks      | elapsed:   41.0s\n",
      "[Parallel(n_jobs=-1)]: Done  55 tasks      | elapsed:   41.1s\n",
      "[Parallel(n_jobs=-1)]: Done  56 tasks      | elapsed:   42.7s\n",
      "[Parallel(n_jobs=-1)]: Done  57 tasks      | elapsed:   43.2s\n",
      "[Parallel(n_jobs=-1)]: Done  58 tasks      | elapsed:   43.6s\n",
      "[Parallel(n_jobs=-1)]: Done  59 tasks      | elapsed:   44.2s\n",
      "[Parallel(n_jobs=-1)]: Done  60 tasks      | elapsed:   45.1s\n",
      "[Parallel(n_jobs=-1)]: Done  61 tasks      | elapsed:   45.3s\n",
      "[Parallel(n_jobs=-1)]: Done  62 tasks      | elapsed:   45.3s\n",
      "[Parallel(n_jobs=-1)]: Done  63 tasks      | elapsed:   45.5s\n",
      "[Parallel(n_jobs=-1)]: Done  64 tasks      | elapsed:   46.2s\n",
      "[Parallel(n_jobs=-1)]: Done  65 tasks      | elapsed:   46.3s\n",
      "[Parallel(n_jobs=-1)]: Done  66 tasks      | elapsed:   46.6s\n",
      "[Parallel(n_jobs=-1)]: Done  67 tasks      | elapsed:   48.0s\n",
      "[Parallel(n_jobs=-1)]: Done  68 tasks      | elapsed:   48.2s\n",
      "[Parallel(n_jobs=-1)]: Done  69 tasks      | elapsed:   48.3s\n",
      "[Parallel(n_jobs=-1)]: Done  70 tasks      | elapsed:   48.7s\n",
      "[Parallel(n_jobs=-1)]: Done  71 tasks      | elapsed:   48.9s\n",
      "[Parallel(n_jobs=-1)]: Done  72 tasks      | elapsed:   49.2s\n",
      "[Parallel(n_jobs=-1)]: Done  73 tasks      | elapsed:   49.5s\n",
      "[Parallel(n_jobs=-1)]: Done  74 tasks      | elapsed:   49.5s\n",
      "[Parallel(n_jobs=-1)]: Done  75 tasks      | elapsed:   49.7s\n",
      "[Parallel(n_jobs=-1)]: Done  76 tasks      | elapsed:   49.9s\n",
      "[Parallel(n_jobs=-1)]: Done  77 tasks      | elapsed:   50.1s\n",
      "[Parallel(n_jobs=-1)]: Done  78 tasks      | elapsed:   50.6s\n",
      "[Parallel(n_jobs=-1)]: Done  79 tasks      | elapsed:   51.5s\n",
      "[Parallel(n_jobs=-1)]: Done  80 tasks      | elapsed:   56.1s\n",
      "[Parallel(n_jobs=-1)]: Done  81 tasks      | elapsed:  1.0min\n",
      "[Parallel(n_jobs=-1)]: Done  82 tasks      | elapsed:  1.1min\n",
      "[Parallel(n_jobs=-1)]: Done  83 tasks      | elapsed:  1.2min\n",
      "[Parallel(n_jobs=-1)]: Done  84 tasks      | elapsed:  1.3min\n",
      "[Parallel(n_jobs=-1)]: Done  85 tasks      | elapsed:  1.3min\n",
      "[Parallel(n_jobs=-1)]: Done  86 tasks      | elapsed:  1.3min\n",
      "[Parallel(n_jobs=-1)]: Done  87 tasks      | elapsed:  1.4min\n",
      "[Parallel(n_jobs=-1)]: Done  88 tasks      | elapsed:  1.4min\n",
      "[Parallel(n_jobs=-1)]: Done  89 tasks      | elapsed:  1.4min\n",
      "[Parallel(n_jobs=-1)]: Done  90 tasks      | elapsed:  1.4min\n",
      "[Parallel(n_jobs=-1)]: Done  91 tasks      | elapsed:  1.4min\n",
      "[Parallel(n_jobs=-1)]: Done  92 tasks      | elapsed:  1.5min\n",
      "[Parallel(n_jobs=-1)]: Done  93 tasks      | elapsed:  1.5min\n",
      "[Parallel(n_jobs=-1)]: Done  94 tasks      | elapsed:  1.5min\n",
      "[Parallel(n_jobs=-1)]: Done  95 tasks      | elapsed:  1.5min\n",
      "[Parallel(n_jobs=-1)]: Done  96 tasks      | elapsed:  1.5min\n",
      "[Parallel(n_jobs=-1)]: Done  97 tasks      | elapsed:  1.5min\n",
      "[Parallel(n_jobs=-1)]: Done  98 tasks      | elapsed:  1.5min\n",
      "[Parallel(n_jobs=-1)]: Done  99 tasks      | elapsed:  1.6min\n",
      "[Parallel(n_jobs=-1)]: Done 100 tasks      | elapsed:  1.6min\n",
      "[Parallel(n_jobs=-1)]: Done 101 tasks      | elapsed:  1.6min\n",
      "[Parallel(n_jobs=-1)]: Done 102 tasks      | elapsed:  1.6min\n",
      "[Parallel(n_jobs=-1)]: Done 103 tasks      | elapsed:  1.6min\n",
      "[Parallel(n_jobs=-1)]: Done 104 tasks      | elapsed:  1.6min\n",
      "[Parallel(n_jobs=-1)]: Done 105 tasks      | elapsed:  1.6min\n",
      "[Parallel(n_jobs=-1)]: Done 106 tasks      | elapsed:  1.6min\n",
      "[Parallel(n_jobs=-1)]: Done 107 tasks      | elapsed:  1.7min\n",
      "[Parallel(n_jobs=-1)]: Done 108 tasks      | elapsed:  1.7min\n",
      "[Parallel(n_jobs=-1)]: Done 109 tasks      | elapsed:  1.7min\n",
      "[Parallel(n_jobs=-1)]: Done 110 tasks      | elapsed:  1.7min\n",
      "[Parallel(n_jobs=-1)]: Done 111 tasks      | elapsed:  1.7min\n",
      "[Parallel(n_jobs=-1)]: Done 112 tasks      | elapsed:  1.7min\n",
      "[Parallel(n_jobs=-1)]: Done 113 tasks      | elapsed:  1.7min\n",
      "[Parallel(n_jobs=-1)]: Done 114 tasks      | elapsed:  2.0min\n",
      "[Parallel(n_jobs=-1)]: Done 115 tasks      | elapsed:  2.0min\n",
      "[Parallel(n_jobs=-1)]: Done 116 tasks      | elapsed:  2.1min\n",
      "[Parallel(n_jobs=-1)]: Done 117 tasks      | elapsed:  2.1min\n",
      "[Parallel(n_jobs=-1)]: Done 118 tasks      | elapsed:  2.2min\n",
      "[Parallel(n_jobs=-1)]: Done 119 tasks      | elapsed:  2.3min\n",
      "[Parallel(n_jobs=-1)]: Done 120 tasks      | elapsed:  2.3min\n",
      "[Parallel(n_jobs=-1)]: Done 121 tasks      | elapsed:  2.3min\n",
      "[Parallel(n_jobs=-1)]: Done 122 tasks      | elapsed:  2.3min\n",
      "[Parallel(n_jobs=-1)]: Done 123 tasks      | elapsed:  2.4min\n",
      "[Parallel(n_jobs=-1)]: Done 124 tasks      | elapsed:  2.4min\n",
      "[Parallel(n_jobs=-1)]: Done 125 tasks      | elapsed:  2.4min\n",
      "[Parallel(n_jobs=-1)]: Done 126 tasks      | elapsed:  2.4min\n",
      "[Parallel(n_jobs=-1)]: Done 127 tasks      | elapsed:  2.4min\n",
      "[Parallel(n_jobs=-1)]: Done 128 tasks      | elapsed:  2.4min\n",
      "[Parallel(n_jobs=-1)]: Done 129 tasks      | elapsed:  2.4min\n",
      "[Parallel(n_jobs=-1)]: Done 130 tasks      | elapsed:  2.5min\n",
      "[Parallel(n_jobs=-1)]: Done 131 tasks      | elapsed:  2.5min\n"
     ]
    },
    {
     "name": "stderr",
     "output_type": "stream",
     "text": [
      "[Parallel(n_jobs=-1)]: Done 132 tasks      | elapsed:  2.5min\n",
      "[Parallel(n_jobs=-1)]: Done 133 tasks      | elapsed:  2.5min\n",
      "[Parallel(n_jobs=-1)]: Done 134 tasks      | elapsed:  2.5min\n",
      "[Parallel(n_jobs=-1)]: Done 135 tasks      | elapsed:  2.5min\n",
      "[Parallel(n_jobs=-1)]: Done 136 tasks      | elapsed:  2.6min\n",
      "[Parallel(n_jobs=-1)]: Done 137 tasks      | elapsed:  2.6min\n",
      "[Parallel(n_jobs=-1)]: Done 138 tasks      | elapsed:  2.6min\n",
      "[Parallel(n_jobs=-1)]: Done 139 tasks      | elapsed:  2.6min\n",
      "[Parallel(n_jobs=-1)]: Done 140 tasks      | elapsed:  2.6min\n",
      "[Parallel(n_jobs=-1)]: Done 141 tasks      | elapsed:  2.6min\n",
      "[Parallel(n_jobs=-1)]: Done 142 tasks      | elapsed:  2.6min\n",
      "[Parallel(n_jobs=-1)]: Done 143 tasks      | elapsed:  2.6min\n",
      "[Parallel(n_jobs=-1)]: Done 144 tasks      | elapsed:  2.6min\n",
      "[Parallel(n_jobs=-1)]: Done 145 tasks      | elapsed:  2.6min\n",
      "[Parallel(n_jobs=-1)]: Done 146 tasks      | elapsed:  2.6min\n",
      "[Parallel(n_jobs=-1)]: Done 147 tasks      | elapsed:  2.6min\n",
      "[Parallel(n_jobs=-1)]: Done 148 tasks      | elapsed:  2.7min\n",
      "[Parallel(n_jobs=-1)]: Done 149 tasks      | elapsed:  2.7min\n",
      "[Parallel(n_jobs=-1)]: Done 150 tasks      | elapsed:  2.7min\n",
      "[Parallel(n_jobs=-1)]: Done 151 tasks      | elapsed:  2.7min\n",
      "[Parallel(n_jobs=-1)]: Done 152 tasks      | elapsed:  2.7min\n",
      "[Parallel(n_jobs=-1)]: Done 153 tasks      | elapsed:  2.7min\n",
      "[Parallel(n_jobs=-1)]: Done 154 tasks      | elapsed:  2.7min\n",
      "[Parallel(n_jobs=-1)]: Done 155 tasks      | elapsed:  2.7min\n",
      "[Parallel(n_jobs=-1)]: Done 156 tasks      | elapsed:  3.0min\n",
      "[Parallel(n_jobs=-1)]: Done 157 tasks      | elapsed:  3.2min\n",
      "[Parallel(n_jobs=-1)]: Done 158 tasks      | elapsed:  3.3min\n",
      "[Parallel(n_jobs=-1)]: Done 159 tasks      | elapsed:  3.4min\n",
      "[Parallel(n_jobs=-1)]: Done 160 tasks      | elapsed:  3.4min\n",
      "[Parallel(n_jobs=-1)]: Done 161 tasks      | elapsed:  3.4min\n",
      "[Parallel(n_jobs=-1)]: Done 162 tasks      | elapsed:  3.4min\n",
      "[Parallel(n_jobs=-1)]: Done 163 tasks      | elapsed:  3.4min\n",
      "[Parallel(n_jobs=-1)]: Done 164 tasks      | elapsed:  3.4min\n",
      "[Parallel(n_jobs=-1)]: Done 165 tasks      | elapsed:  3.4min\n",
      "[Parallel(n_jobs=-1)]: Done 166 tasks      | elapsed:  3.4min\n",
      "[Parallel(n_jobs=-1)]: Done 167 tasks      | elapsed:  3.4min\n",
      "[Parallel(n_jobs=-1)]: Done 168 tasks      | elapsed:  3.4min\n",
      "[Parallel(n_jobs=-1)]: Done 169 tasks      | elapsed:  3.4min\n",
      "[Parallel(n_jobs=-1)]: Done 170 tasks      | elapsed:  3.4min\n",
      "[Parallel(n_jobs=-1)]: Done 171 tasks      | elapsed:  3.4min\n",
      "[Parallel(n_jobs=-1)]: Done 172 tasks      | elapsed:  3.4min\n",
      "[Parallel(n_jobs=-1)]: Done 173 tasks      | elapsed:  3.4min\n",
      "[Parallel(n_jobs=-1)]: Done 174 tasks      | elapsed:  3.4min\n",
      "[Parallel(n_jobs=-1)]: Done 175 tasks      | elapsed:  3.4min\n",
      "[Parallel(n_jobs=-1)]: Done 176 tasks      | elapsed:  3.4min\n",
      "[Parallel(n_jobs=-1)]: Done 177 tasks      | elapsed:  3.4min\n",
      "[Parallel(n_jobs=-1)]: Done 178 tasks      | elapsed:  3.4min\n",
      "[Parallel(n_jobs=-1)]: Done 179 tasks      | elapsed:  3.4min\n",
      "[Parallel(n_jobs=-1)]: Done 180 tasks      | elapsed:  3.4min\n",
      "[Parallel(n_jobs=-1)]: Done 181 tasks      | elapsed:  3.4min\n",
      "[Parallel(n_jobs=-1)]: Done 182 tasks      | elapsed:  3.4min\n"
     ]
    },
    {
     "ename": "KeyboardInterrupt",
     "evalue": "",
     "output_type": "error",
     "traceback": [
      "\u001b[0;31m---------------------------------------------------------------------------\u001b[0m",
      "\u001b[0;31mKeyboardInterrupt\u001b[0m                         Traceback (most recent call last)",
      "\u001b[0;32m<ipython-input-54-807fe847b3e2>\u001b[0m in \u001b[0;36m<module>\u001b[0;34m\u001b[0m\n\u001b[0;32m----> 1\u001b[0;31m \u001b[0mgrid\u001b[0m\u001b[0;34m.\u001b[0m\u001b[0mfit\u001b[0m\u001b[0;34m(\u001b[0m\u001b[0mx_train\u001b[0m\u001b[0;34m,\u001b[0m\u001b[0my_train\u001b[0m\u001b[0;34m)\u001b[0m\u001b[0;34m\u001b[0m\u001b[0;34m\u001b[0m\u001b[0m\n\u001b[0m",
      "\u001b[0;32m~/anaconda3/lib/python3.7/site-packages/sklearn/model_selection/_search.py\u001b[0m in \u001b[0;36mfit\u001b[0;34m(self, X, y, groups, **fit_params)\u001b[0m\n\u001b[1;32m    721\u001b[0m                 \u001b[0;32mreturn\u001b[0m \u001b[0mresults_container\u001b[0m\u001b[0;34m[\u001b[0m\u001b[0;36m0\u001b[0m\u001b[0;34m]\u001b[0m\u001b[0;34m\u001b[0m\u001b[0;34m\u001b[0m\u001b[0m\n\u001b[1;32m    722\u001b[0m \u001b[0;34m\u001b[0m\u001b[0m\n\u001b[0;32m--> 723\u001b[0;31m             \u001b[0mself\u001b[0m\u001b[0;34m.\u001b[0m\u001b[0m_run_search\u001b[0m\u001b[0;34m(\u001b[0m\u001b[0mevaluate_candidates\u001b[0m\u001b[0;34m)\u001b[0m\u001b[0;34m\u001b[0m\u001b[0;34m\u001b[0m\u001b[0m\n\u001b[0m\u001b[1;32m    724\u001b[0m \u001b[0;34m\u001b[0m\u001b[0m\n\u001b[1;32m    725\u001b[0m         \u001b[0mresults\u001b[0m \u001b[0;34m=\u001b[0m \u001b[0mresults_container\u001b[0m\u001b[0;34m[\u001b[0m\u001b[0;36m0\u001b[0m\u001b[0;34m]\u001b[0m\u001b[0;34m\u001b[0m\u001b[0;34m\u001b[0m\u001b[0m\n",
      "\u001b[0;32m~/anaconda3/lib/python3.7/site-packages/sklearn/model_selection/_search.py\u001b[0m in \u001b[0;36m_run_search\u001b[0;34m(self, evaluate_candidates)\u001b[0m\n\u001b[1;32m   1190\u001b[0m     \u001b[0;32mdef\u001b[0m \u001b[0m_run_search\u001b[0m\u001b[0;34m(\u001b[0m\u001b[0mself\u001b[0m\u001b[0;34m,\u001b[0m \u001b[0mevaluate_candidates\u001b[0m\u001b[0;34m)\u001b[0m\u001b[0;34m:\u001b[0m\u001b[0;34m\u001b[0m\u001b[0;34m\u001b[0m\u001b[0m\n\u001b[1;32m   1191\u001b[0m         \u001b[0;34m\"\"\"Search all candidates in param_grid\"\"\"\u001b[0m\u001b[0;34m\u001b[0m\u001b[0;34m\u001b[0m\u001b[0m\n\u001b[0;32m-> 1192\u001b[0;31m         \u001b[0mevaluate_candidates\u001b[0m\u001b[0;34m(\u001b[0m\u001b[0mParameterGrid\u001b[0m\u001b[0;34m(\u001b[0m\u001b[0mself\u001b[0m\u001b[0;34m.\u001b[0m\u001b[0mparam_grid\u001b[0m\u001b[0;34m)\u001b[0m\u001b[0;34m)\u001b[0m\u001b[0;34m\u001b[0m\u001b[0;34m\u001b[0m\u001b[0m\n\u001b[0m\u001b[1;32m   1193\u001b[0m \u001b[0;34m\u001b[0m\u001b[0m\n\u001b[1;32m   1194\u001b[0m \u001b[0;34m\u001b[0m\u001b[0m\n",
      "\u001b[0;32m~/anaconda3/lib/python3.7/site-packages/sklearn/model_selection/_search.py\u001b[0m in \u001b[0;36mevaluate_candidates\u001b[0;34m(candidate_params)\u001b[0m\n\u001b[1;32m    710\u001b[0m                                \u001b[0;32mfor\u001b[0m \u001b[0mparameters\u001b[0m\u001b[0;34m,\u001b[0m \u001b[0;34m(\u001b[0m\u001b[0mtrain\u001b[0m\u001b[0;34m,\u001b[0m \u001b[0mtest\u001b[0m\u001b[0;34m)\u001b[0m\u001b[0;34m\u001b[0m\u001b[0;34m\u001b[0m\u001b[0m\n\u001b[1;32m    711\u001b[0m                                in product(candidate_params,\n\u001b[0;32m--> 712\u001b[0;31m                                           cv.split(X, y, groups)))\n\u001b[0m\u001b[1;32m    713\u001b[0m \u001b[0;34m\u001b[0m\u001b[0m\n\u001b[1;32m    714\u001b[0m                 \u001b[0mall_candidate_params\u001b[0m\u001b[0;34m.\u001b[0m\u001b[0mextend\u001b[0m\u001b[0;34m(\u001b[0m\u001b[0mcandidate_params\u001b[0m\u001b[0;34m)\u001b[0m\u001b[0;34m\u001b[0m\u001b[0;34m\u001b[0m\u001b[0m\n",
      "\u001b[0;32m~/anaconda3/lib/python3.7/site-packages/sklearn/externals/joblib/parallel.py\u001b[0m in \u001b[0;36m__call__\u001b[0;34m(self, iterable)\u001b[0m\n\u001b[1;32m    932\u001b[0m \u001b[0;34m\u001b[0m\u001b[0m\n\u001b[1;32m    933\u001b[0m             \u001b[0;32mwith\u001b[0m \u001b[0mself\u001b[0m\u001b[0;34m.\u001b[0m\u001b[0m_backend\u001b[0m\u001b[0;34m.\u001b[0m\u001b[0mretrieval_context\u001b[0m\u001b[0;34m(\u001b[0m\u001b[0;34m)\u001b[0m\u001b[0;34m:\u001b[0m\u001b[0;34m\u001b[0m\u001b[0;34m\u001b[0m\u001b[0m\n\u001b[0;32m--> 934\u001b[0;31m                 \u001b[0mself\u001b[0m\u001b[0;34m.\u001b[0m\u001b[0mretrieve\u001b[0m\u001b[0;34m(\u001b[0m\u001b[0;34m)\u001b[0m\u001b[0;34m\u001b[0m\u001b[0;34m\u001b[0m\u001b[0m\n\u001b[0m\u001b[1;32m    935\u001b[0m             \u001b[0;31m# Make sure that we get a last message telling us we are done\u001b[0m\u001b[0;34m\u001b[0m\u001b[0;34m\u001b[0m\u001b[0;34m\u001b[0m\u001b[0m\n\u001b[1;32m    936\u001b[0m             \u001b[0melapsed_time\u001b[0m \u001b[0;34m=\u001b[0m \u001b[0mtime\u001b[0m\u001b[0;34m.\u001b[0m\u001b[0mtime\u001b[0m\u001b[0;34m(\u001b[0m\u001b[0;34m)\u001b[0m \u001b[0;34m-\u001b[0m \u001b[0mself\u001b[0m\u001b[0;34m.\u001b[0m\u001b[0m_start_time\u001b[0m\u001b[0;34m\u001b[0m\u001b[0;34m\u001b[0m\u001b[0m\n",
      "\u001b[0;32m~/anaconda3/lib/python3.7/site-packages/sklearn/externals/joblib/parallel.py\u001b[0m in \u001b[0;36mretrieve\u001b[0;34m(self)\u001b[0m\n\u001b[1;32m    831\u001b[0m             \u001b[0;32mtry\u001b[0m\u001b[0;34m:\u001b[0m\u001b[0;34m\u001b[0m\u001b[0;34m\u001b[0m\u001b[0m\n\u001b[1;32m    832\u001b[0m                 \u001b[0;32mif\u001b[0m \u001b[0mgetattr\u001b[0m\u001b[0;34m(\u001b[0m\u001b[0mself\u001b[0m\u001b[0;34m.\u001b[0m\u001b[0m_backend\u001b[0m\u001b[0;34m,\u001b[0m \u001b[0;34m'supports_timeout'\u001b[0m\u001b[0;34m,\u001b[0m \u001b[0;32mFalse\u001b[0m\u001b[0;34m)\u001b[0m\u001b[0;34m:\u001b[0m\u001b[0;34m\u001b[0m\u001b[0;34m\u001b[0m\u001b[0m\n\u001b[0;32m--> 833\u001b[0;31m                     \u001b[0mself\u001b[0m\u001b[0;34m.\u001b[0m\u001b[0m_output\u001b[0m\u001b[0;34m.\u001b[0m\u001b[0mextend\u001b[0m\u001b[0;34m(\u001b[0m\u001b[0mjob\u001b[0m\u001b[0;34m.\u001b[0m\u001b[0mget\u001b[0m\u001b[0;34m(\u001b[0m\u001b[0mtimeout\u001b[0m\u001b[0;34m=\u001b[0m\u001b[0mself\u001b[0m\u001b[0;34m.\u001b[0m\u001b[0mtimeout\u001b[0m\u001b[0;34m)\u001b[0m\u001b[0;34m)\u001b[0m\u001b[0;34m\u001b[0m\u001b[0;34m\u001b[0m\u001b[0m\n\u001b[0m\u001b[1;32m    834\u001b[0m                 \u001b[0;32melse\u001b[0m\u001b[0;34m:\u001b[0m\u001b[0;34m\u001b[0m\u001b[0;34m\u001b[0m\u001b[0m\n\u001b[1;32m    835\u001b[0m                     \u001b[0mself\u001b[0m\u001b[0;34m.\u001b[0m\u001b[0m_output\u001b[0m\u001b[0;34m.\u001b[0m\u001b[0mextend\u001b[0m\u001b[0;34m(\u001b[0m\u001b[0mjob\u001b[0m\u001b[0;34m.\u001b[0m\u001b[0mget\u001b[0m\u001b[0;34m(\u001b[0m\u001b[0;34m)\u001b[0m\u001b[0;34m)\u001b[0m\u001b[0;34m\u001b[0m\u001b[0;34m\u001b[0m\u001b[0m\n",
      "\u001b[0;32m~/anaconda3/lib/python3.7/site-packages/sklearn/externals/joblib/_parallel_backends.py\u001b[0m in \u001b[0;36mwrap_future_result\u001b[0;34m(future, timeout)\u001b[0m\n\u001b[1;32m    519\u001b[0m         AsyncResults.get from multiprocessing.\"\"\"\n\u001b[1;32m    520\u001b[0m         \u001b[0;32mtry\u001b[0m\u001b[0;34m:\u001b[0m\u001b[0;34m\u001b[0m\u001b[0;34m\u001b[0m\u001b[0m\n\u001b[0;32m--> 521\u001b[0;31m             \u001b[0;32mreturn\u001b[0m \u001b[0mfuture\u001b[0m\u001b[0;34m.\u001b[0m\u001b[0mresult\u001b[0m\u001b[0;34m(\u001b[0m\u001b[0mtimeout\u001b[0m\u001b[0;34m=\u001b[0m\u001b[0mtimeout\u001b[0m\u001b[0;34m)\u001b[0m\u001b[0;34m\u001b[0m\u001b[0;34m\u001b[0m\u001b[0m\n\u001b[0m\u001b[1;32m    522\u001b[0m         \u001b[0;32mexcept\u001b[0m \u001b[0mLokyTimeoutError\u001b[0m\u001b[0;34m:\u001b[0m\u001b[0;34m\u001b[0m\u001b[0;34m\u001b[0m\u001b[0m\n\u001b[1;32m    523\u001b[0m             \u001b[0;32mraise\u001b[0m \u001b[0mTimeoutError\u001b[0m\u001b[0;34m(\u001b[0m\u001b[0;34m)\u001b[0m\u001b[0;34m\u001b[0m\u001b[0;34m\u001b[0m\u001b[0m\n",
      "\u001b[0;32m~/anaconda3/lib/python3.7/concurrent/futures/_base.py\u001b[0m in \u001b[0;36mresult\u001b[0;34m(self, timeout)\u001b[0m\n\u001b[1;32m    425\u001b[0m                 \u001b[0;32mreturn\u001b[0m \u001b[0mself\u001b[0m\u001b[0;34m.\u001b[0m\u001b[0m__get_result\u001b[0m\u001b[0;34m(\u001b[0m\u001b[0;34m)\u001b[0m\u001b[0;34m\u001b[0m\u001b[0;34m\u001b[0m\u001b[0m\n\u001b[1;32m    426\u001b[0m \u001b[0;34m\u001b[0m\u001b[0m\n\u001b[0;32m--> 427\u001b[0;31m             \u001b[0mself\u001b[0m\u001b[0;34m.\u001b[0m\u001b[0m_condition\u001b[0m\u001b[0;34m.\u001b[0m\u001b[0mwait\u001b[0m\u001b[0;34m(\u001b[0m\u001b[0mtimeout\u001b[0m\u001b[0;34m)\u001b[0m\u001b[0;34m\u001b[0m\u001b[0;34m\u001b[0m\u001b[0m\n\u001b[0m\u001b[1;32m    428\u001b[0m \u001b[0;34m\u001b[0m\u001b[0m\n\u001b[1;32m    429\u001b[0m             \u001b[0;32mif\u001b[0m \u001b[0mself\u001b[0m\u001b[0;34m.\u001b[0m\u001b[0m_state\u001b[0m \u001b[0;32min\u001b[0m \u001b[0;34m[\u001b[0m\u001b[0mCANCELLED\u001b[0m\u001b[0;34m,\u001b[0m \u001b[0mCANCELLED_AND_NOTIFIED\u001b[0m\u001b[0;34m]\u001b[0m\u001b[0;34m:\u001b[0m\u001b[0;34m\u001b[0m\u001b[0;34m\u001b[0m\u001b[0m\n",
      "\u001b[0;32m~/anaconda3/lib/python3.7/threading.py\u001b[0m in \u001b[0;36mwait\u001b[0;34m(self, timeout)\u001b[0m\n\u001b[1;32m    294\u001b[0m         \u001b[0;32mtry\u001b[0m\u001b[0;34m:\u001b[0m    \u001b[0;31m# restore state no matter what (e.g., KeyboardInterrupt)\u001b[0m\u001b[0;34m\u001b[0m\u001b[0;34m\u001b[0m\u001b[0m\n\u001b[1;32m    295\u001b[0m             \u001b[0;32mif\u001b[0m \u001b[0mtimeout\u001b[0m \u001b[0;32mis\u001b[0m \u001b[0;32mNone\u001b[0m\u001b[0;34m:\u001b[0m\u001b[0;34m\u001b[0m\u001b[0;34m\u001b[0m\u001b[0m\n\u001b[0;32m--> 296\u001b[0;31m                 \u001b[0mwaiter\u001b[0m\u001b[0;34m.\u001b[0m\u001b[0macquire\u001b[0m\u001b[0;34m(\u001b[0m\u001b[0;34m)\u001b[0m\u001b[0;34m\u001b[0m\u001b[0;34m\u001b[0m\u001b[0m\n\u001b[0m\u001b[1;32m    297\u001b[0m                 \u001b[0mgotit\u001b[0m \u001b[0;34m=\u001b[0m \u001b[0;32mTrue\u001b[0m\u001b[0;34m\u001b[0m\u001b[0;34m\u001b[0m\u001b[0m\n\u001b[1;32m    298\u001b[0m             \u001b[0;32melse\u001b[0m\u001b[0;34m:\u001b[0m\u001b[0;34m\u001b[0m\u001b[0;34m\u001b[0m\u001b[0m\n",
      "\u001b[0;31mKeyboardInterrupt\u001b[0m: "
     ]
    }
   ],
   "source": [
    "grid.fit(x_train,y_train)"
   ]
  },
  {
   "cell_type": "code",
   "execution_count": 27,
   "metadata": {},
   "outputs": [],
   "source": [
    "cat_vars=list(cat_vars)\n",
    "cat_vars.remove('data')"
   ]
  },
  {
   "cell_type": "code",
   "execution_count": 33,
   "metadata": {},
   "outputs": [],
   "source": [
    "# pd.get_dummies(bd_all['region'],prefix='region',drop_first=True)"
   ]
  },
  {
   "cell_type": "code",
   "execution_count": 34,
   "metadata": {},
   "outputs": [
    {
     "name": "stdout",
     "output_type": "stream",
     "text": [
      "TVarea\n",
      "age_band\n",
      "family_income\n",
      "gender\n",
      "home_status\n",
      "occupation\n",
      "occupation_partner\n",
      "region\n",
      "self_employed\n",
      "self_employed_partner\n",
      "status\n"
     ]
    }
   ],
   "source": [
    "for col in cat_vars:\n",
    "    \n",
    "    dummy=pd.get_dummies(bd_all[col],drop_first=True,prefix=col)\n",
    "    \n",
    "    bd_all=pd.concat([bd_all,dummy],axis=1)\n",
    "    \n",
    "    del bd_all[col]\n",
    "    print(col)\n",
    "\n",
    "del dummy"
   ]
  },
  {
   "cell_type": "code",
   "execution_count": null,
   "metadata": {},
   "outputs": [],
   "source": []
  }
 ],
 "metadata": {
  "kernelspec": {
   "display_name": "Python 3",
   "language": "python",
   "name": "python3"
  },
  "language_info": {
   "codemirror_mode": {
    "name": "ipython",
    "version": 3
   },
   "file_extension": ".py",
   "mimetype": "text/x-python",
   "name": "python",
   "nbconvert_exporter": "python",
   "pygments_lexer": "ipython3",
   "version": "3.7.3"
  }
 },
 "nbformat": 4,
 "nbformat_minor": 2
}
