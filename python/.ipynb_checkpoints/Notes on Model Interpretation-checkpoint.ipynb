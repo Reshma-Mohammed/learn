{
 "cells": [
  {
   "cell_type": "code",
   "execution_count": null,
   "metadata": {},
   "outputs": [],
   "source": [
    "# !pip install skater\n",
    "# if you face an issue with this you can download skater master from here :https://github.com/oracle/Skater\n",
    "# go that folder on your command prompt and run \n",
    "# python setup.py install\n",
    "# also if you build skater like that , you'll need to restart your kernel for imports to start working"
   ]
  },
  {
   "cell_type": "code",
   "execution_count": null,
   "metadata": {},
   "outputs": [],
   "source": [
    "# !pip install skater"
   ]
  },
  {
   "cell_type": "code",
   "execution_count": null,
   "metadata": {},
   "outputs": [],
   "source": [
    "import pandas as pd \n",
    "import numpy as np\n",
    "from sklearn.ensemble import RandomForestClassifier"
   ]
  },
  {
   "cell_type": "code",
   "execution_count": null,
   "metadata": {},
   "outputs": [],
   "source": [
    "file=r'/Users/lalitsachan/Dropbox/0.0 Data/census_income.csv'\n",
    "\n",
    "ci=pd.read_csv(file)\n",
    "ci=ci.sample(1000)"
   ]
  },
  {
   "cell_type": "code",
   "execution_count": null,
   "metadata": {},
   "outputs": [],
   "source": [
    "ci.drop(['education'],axis=1,inplace=True)\n",
    "ci['Y']=(ci['Y']==' >50K').astype(int)\n",
    "cat_cols=ci.select_dtypes(['object']).columns\n",
    "\n",
    "for col in cat_cols:\n",
    "    freqs=ci[col].value_counts()\n",
    "    k=freqs.index[freqs>10][:-1]\n",
    "    for cat in k:\n",
    "        name=col+'_'+cat\n",
    "        ci[name]=(ci[col]==cat).astype(int)\n",
    "    del ci[col]\n",
    "\n",
    "x=ci.drop(['Y'],1)\n",
    "y=ci['Y']"
   ]
  },
  {
   "cell_type": "code",
   "execution_count": null,
   "metadata": {},
   "outputs": [],
   "source": [
    "y.value_counts()"
   ]
  },
  {
   "cell_type": "code",
   "execution_count": null,
   "metadata": {},
   "outputs": [],
   "source": [
    "rf=RandomForestClassifier(**{'criterion': 'entropy', 'max_depth': 14, 'max_features': 11, 'n_estimators': 320})"
   ]
  },
  {
   "cell_type": "code",
   "execution_count": null,
   "metadata": {},
   "outputs": [],
   "source": [
    "rf.fit(x,y)"
   ]
  },
  {
   "cell_type": "code",
   "execution_count": null,
   "metadata": {},
   "outputs": [],
   "source": [
    "%matplotlib inline\n",
    "import warnings\n",
    "warnings.filterwarnings('ignore')\n",
    "import matplotlib.pyplot as plt\n",
    "plt.style.use('ggplot')"
   ]
  },
  {
   "cell_type": "code",
   "execution_count": null,
   "metadata": {},
   "outputs": [],
   "source": [
    "from skater.core.explanations import Interpretation\n",
    "from skater.model import InMemoryModel"
   ]
  },
  {
   "cell_type": "code",
   "execution_count": null,
   "metadata": {},
   "outputs": [],
   "source": [
    "interpreter = Interpretation(x, feature_names=x.columns)\n",
    "model = InMemoryModel(rf.predict_proba, examples=x)\n",
    "plots = interpreter.feature_importance.plot_feature_importance(model, ascending=True)"
   ]
  },
  {
   "cell_type": "code",
   "execution_count": null,
   "metadata": {},
   "outputs": [],
   "source": [
    "rf.classes_"
   ]
  },
  {
   "cell_type": "code",
   "execution_count": null,
   "metadata": {},
   "outputs": [],
   "source": [
    "pyint_model = InMemoryModel(rf.predict_proba, examples=x, target_names=['Y_0','Y_1'])\n",
    "axes_list = interpreter.partial_dependence.plot_partial_dependence(['education.num'],\n",
    "                                                                   pyint_model, \n",
    "                                                                   grid_resolution=30, \n",
    "                                                                   with_variance=True,\n",
    "                                                                   figsize = (10, 5))\n"
   ]
  },
  {
   "cell_type": "code",
   "execution_count": null,
   "metadata": {},
   "outputs": [],
   "source": [
    "axes_list = interpreter.partial_dependence.plot_partial_dependence(['age'],\n",
    "                                                                   pyint_model, \n",
    "                                                                   grid_resolution=30, \n",
    "                                                                   with_variance=True,\n",
    "                                                                   figsize = (10, 5))"
   ]
  },
  {
   "cell_type": "code",
   "execution_count": null,
   "metadata": {},
   "outputs": [],
   "source": [
    "model = InMemoryModel(rf.predict_proba, examples=x, target_names=['Y_0', 'Y_1'])\n",
    "interpreter.partial_dependence.plot_partial_dependence([('age', 'education.num')], model, \n",
    "                                                       grid_resolution=10)"
   ]
  },
  {
   "cell_type": "code",
   "execution_count": null,
   "metadata": {},
   "outputs": [],
   "source": [
    "from skater.core.local_interpretation.lime.lime_tabular import LimeTabularExplainer\n",
    "from skater.util.dataops import show_in_notebook\n",
    "exp = LimeTabularExplainer(x.values, \n",
    "                           feature_names=x.columns, \n",
    "                           discretize_continuous=True, \n",
    "                           class_names=['Y_0', 'Y_1'])\n",
    "exp.explain_instance(x.iloc[100].values, rf.predict_proba).show_in_notebook()"
   ]
  },
  {
   "cell_type": "code",
   "execution_count": null,
   "metadata": {},
   "outputs": [],
   "source": [
    "from skater.core.global_interpretation.tree_surrogate import TreeSurrogate\n",
    "\n",
    "# Using the interpreter instance invoke call to the TreeSurrogate\n",
    "surrogate_explainer = interpreter.tree_surrogate(oracle=model,max_depth=4)\n",
    "y_pred_rf=rf.predict(x)\n",
    "surrogate_explainer.fit(x, y_pred_rf, use_oracle=True, prune='post', scorer_type='default')"
   ]
  },
  {
   "cell_type": "code",
   "execution_count": null,
   "metadata": {},
   "outputs": [],
   "source": [
    "# if you get graphviz error on mac : please install by running this : sudo brew install graphviz\n",
    "# if that gives error for brew not found , install homebrew\n",
    "surrogate_explainer.plot_global_decisions(colors=['coral', 'lightsteelblue','darkkhaki'],\n",
    "                                          file_name='simple_tree_pre.png')"
   ]
  },
  {
   "cell_type": "code",
   "execution_count": null,
   "metadata": {},
   "outputs": [],
   "source": [
    "show_in_notebook('simple_tree_pre.png', width=400, height=300)"
   ]
  },
  {
   "cell_type": "code",
   "execution_count": null,
   "metadata": {},
   "outputs": [],
   "source": []
  },
  {
   "cell_type": "code",
   "execution_count": null,
   "metadata": {},
   "outputs": [],
   "source": [
    "dict(enumerate(x.columns))"
   ]
  },
  {
   "cell_type": "code",
   "execution_count": null,
   "metadata": {},
   "outputs": [],
   "source": [
    "from sklearn.metrics import accuracy_score"
   ]
  },
  {
   "cell_type": "code",
   "execution_count": null,
   "metadata": {},
   "outputs": [],
   "source": [
    "accuracy_score(rf.predict(x),y)"
   ]
  },
  {
   "cell_type": "code",
   "execution_count": null,
   "metadata": {},
   "outputs": [],
   "source": [
    "accuracy_score(surrogate_explainer.predict(x),y)"
   ]
  },
  {
   "cell_type": "code",
   "execution_count": null,
   "metadata": {},
   "outputs": [],
   "source": []
  }
 ],
 "metadata": {
  "kernelspec": {
   "display_name": "Python 3",
   "language": "python",
   "name": "python3"
  },
  "language_info": {
   "codemirror_mode": {
    "name": "ipython",
    "version": 3
   },
   "file_extension": ".py",
   "mimetype": "text/x-python",
   "name": "python",
   "nbconvert_exporter": "python",
   "pygments_lexer": "ipython3",
   "version": "3.7.3"
  }
 },
 "nbformat": 4,
 "nbformat_minor": 2
}
