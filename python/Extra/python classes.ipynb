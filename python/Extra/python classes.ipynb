{
 "cells": [
  {
   "cell_type": "code",
   "execution_count": 1,
   "metadata": {},
   "outputs": [],
   "source": [
    "c1_name='abc'\n",
    "c1_balance=230\n",
    "c1_AN=23\n",
    "c1_lastw=10"
   ]
  },
  {
   "cell_type": "code",
   "execution_count": 2,
   "metadata": {},
   "outputs": [],
   "source": [
    "c2_name='asdhbas'\n",
    "c2_balance=345\n",
    "c2_AN=12\n",
    "c2_lastw=45"
   ]
  },
  {
   "cell_type": "code",
   "execution_count": 24,
   "metadata": {},
   "outputs": [],
   "source": [
    "class retailcustomer():\n",
    "    \n",
    "    def __init__(self,name,balance,AN,lastw):\n",
    "        \n",
    "        self.name=name\n",
    "        self.balance=balance\n",
    "        self.AN=AN\n",
    "        self.lastw=lastw\n",
    "        \n",
    "    def withdraw(self,amount):\n",
    "        \n",
    "        if(amount>self.balance):\n",
    "            print('insufficient balance')\n",
    "        else:\n",
    "            self.balance=self.balance-amount\n",
    "            self.lastw=amount\n",
    "        \n",
    "class corporatecustomer():\n",
    "    \n",
    "    def __init__(self,name,balance,AN,lastw):\n",
    "        \n",
    "        self.name=name\n",
    "        self.balance=balance\n",
    "        self.AN=AN\n",
    "        self.lastw=lastw\n",
    "        self.credit_limit=100\n",
    "        \n",
    "    def withdraw(self,amount):\n",
    "        \n",
    "        if(amount>(self.balance+self.credit_limit)):\n",
    "            print('insufficient balance')\n",
    "        elif(amount>self.balance):\n",
    "            self.balance=0\n",
    "            self.credit_limit=self.credit_limit-(amount-self.balance)\n",
    "            self.lastw=amount\n",
    "        else:\n",
    "            self.balance=self.balance-amount\n",
    "            self.lastw=amount\n",
    "            "
   ]
  },
  {
   "cell_type": "code",
   "execution_count": 25,
   "metadata": {},
   "outputs": [],
   "source": [
    "c1=retailcustomer('abc',230,23,0)"
   ]
  },
  {
   "cell_type": "code",
   "execution_count": 26,
   "metadata": {},
   "outputs": [],
   "source": [
    "c2=corporatecustomer('abc',230,23,0)"
   ]
  },
  {
   "cell_type": "code",
   "execution_count": 27,
   "metadata": {},
   "outputs": [
    {
     "name": "stdout",
     "output_type": "stream",
     "text": [
      "insufficient balance\n"
     ]
    }
   ],
   "source": [
    "c1.withdraw(300)"
   ]
  },
  {
   "cell_type": "code",
   "execution_count": 28,
   "metadata": {},
   "outputs": [],
   "source": [
    "c2.withdraw(300)"
   ]
  },
  {
   "cell_type": "code",
   "execution_count": 29,
   "metadata": {},
   "outputs": [
    {
     "data": {
      "text/plain": [
       "0"
      ]
     },
     "execution_count": 29,
     "metadata": {},
     "output_type": "execute_result"
    }
   ],
   "source": [
    "c2.balance"
   ]
  },
  {
   "cell_type": "code",
   "execution_count": 30,
   "metadata": {},
   "outputs": [
    {
     "data": {
      "text/plain": [
       "-200"
      ]
     },
     "execution_count": 30,
     "metadata": {},
     "output_type": "execute_result"
    }
   ],
   "source": [
    "c2.credit_limit"
   ]
  },
  {
   "cell_type": "code",
   "execution_count": null,
   "metadata": {},
   "outputs": [],
   "source": []
  }
 ],
 "metadata": {
  "kernelspec": {
   "display_name": "Python 3",
   "language": "python",
   "name": "python3"
  },
  "language_info": {
   "codemirror_mode": {
    "name": "ipython",
    "version": 3
   },
   "file_extension": ".py",
   "mimetype": "text/x-python",
   "name": "python",
   "nbconvert_exporter": "python",
   "pygments_lexer": "ipython3",
   "version": "3.7.3"
  }
 },
 "nbformat": 4,
 "nbformat_minor": 2
}
