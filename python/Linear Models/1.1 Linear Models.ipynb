{
 "cells": [
  {
   "cell_type": "markdown",
   "metadata": {},
   "source": [
    "# Linear Regression "
   ]
  },
  {
   "cell_type": "code",
   "execution_count": 8,
   "metadata": {},
   "outputs": [],
   "source": [
    "import warnings\n",
    "warnings.filterwarnings('ignore')\n",
    "import pandas as pd \n",
    "import numpy as np"
   ]
  },
  {
   "cell_type": "code",
   "execution_count": null,
   "metadata": {},
   "outputs": [],
   "source": [
    "train_file=r'~/Dropbox/0.0 Data/loan_data_train.csv'\n",
    "test_file=r'~/Dropbox/0.0 Data/loan_data_test.csv'\n",
    "\n",
    "ld_train=pd.read_csv(train_file)\n",
    "ld_test=pd.read_csv(test_file)               "
   ]
  },
  {
   "cell_type": "code",
   "execution_count": null,
   "metadata": {},
   "outputs": [],
   "source": [
    "ld_test.head()"
   ]
  },
  {
   "cell_type": "code",
   "execution_count": null,
   "metadata": {},
   "outputs": [],
   "source": [
    "ld_train.head()"
   ]
  },
  {
   "cell_type": "code",
   "execution_count": null,
   "metadata": {},
   "outputs": [],
   "source": [
    "# lets combine the data for data prep\n",
    "ld_train['data']='train'\n",
    "ld_test['data']='test'\n",
    "ld_all=pd.concat([ld_train,ld_test],axis=0)"
   ]
  },
  {
   "cell_type": "code",
   "execution_count": null,
   "metadata": {},
   "outputs": [],
   "source": [
    "ld_all.head()"
   ]
  },
  {
   "cell_type": "code",
   "execution_count": null,
   "metadata": {},
   "outputs": [],
   "source": [
    "ld_all.info()"
   ]
  },
  {
   "cell_type": "code",
   "execution_count": null,
   "metadata": {},
   "outputs": [],
   "source": [
    "ld_all.head()"
   ]
  },
  {
   "cell_type": "code",
   "execution_count": null,
   "metadata": {},
   "outputs": [],
   "source": [
    "# Amount.Funded.By.Investors ,ID: drop this \n",
    "\n",
    "# Amount.Requested, Open.CREDIT.Lines , Revolving.CREDIT.Balance: \n",
    "#.      change this to numeric \n",
    "\n",
    "# Debt.To.Income.Ratio , Interest.Rate : remove % and then convert \n",
    "# to numeric\n",
    "\n",
    "# State , Loan.Purpose , Loan.Length , Home.Ownership, Employment.Lenth \n",
    "#. : make dummies \n",
    "\n",
    "# FICO.Range : break it in two columns ( covert to numeric) and then \n",
    "# take average "
   ]
  },
  {
   "cell_type": "code",
   "execution_count": null,
   "metadata": {},
   "outputs": [],
   "source": [
    "ld_all.drop(['ID','Amount.Funded.By.Investors'],axis=1,inplace=True)"
   ]
  },
  {
   "cell_type": "code",
   "execution_count": null,
   "metadata": {},
   "outputs": [],
   "source": [
    "for col in ['Interest.Rate','Debt.To.Income.Ratio']:\n",
    "    ld_all[col]=ld_all[col].str.replace(\"%\",\"\")\n",
    "    \n",
    "    "
   ]
  },
  {
   "cell_type": "code",
   "execution_count": null,
   "metadata": {},
   "outputs": [],
   "source": [
    "for col in ['Amount.Requested', 'Interest.Rate','Debt.To.Income.Ratio',\n",
    "            'Open.CREDIT.Lines','Revolving.CREDIT.Balance']:\n",
    "    ld_all[col]=pd.to_numeric(ld_all[col],errors='coerce')\n",
    "    "
   ]
  },
  {
   "cell_type": "code",
   "execution_count": null,
   "metadata": {},
   "outputs": [],
   "source": [
    "k=ld_all['FICO.Range'].str.split(\"-\",expand=True).astype(float)\n",
    "\n",
    "ld_all['fico']=0.5*(k[0]+k[1])\n",
    "\n",
    "del ld_all['FICO.Range']\n",
    "\n"
   ]
  },
  {
   "cell_type": "code",
   "execution_count": null,
   "metadata": {},
   "outputs": [],
   "source": [
    "# Notice that to apply string function on pandas data frame columns you need to str attribute\n",
    "cat_cols=ld_all.select_dtypes(['object']).columns"
   ]
  },
  {
   "cell_type": "code",
   "execution_count": null,
   "metadata": {},
   "outputs": [],
   "source": [
    "cat_cols"
   ]
  },
  {
   "cell_type": "code",
   "execution_count": null,
   "metadata": {},
   "outputs": [],
   "source": [
    "cat_cols=cat_cols[:-1]"
   ]
  },
  {
   "cell_type": "code",
   "execution_count": null,
   "metadata": {},
   "outputs": [],
   "source": [
    "cat_cols"
   ]
  },
  {
   "cell_type": "code",
   "execution_count": null,
   "metadata": {},
   "outputs": [],
   "source": [
    "ld_all['State'].value_counts()"
   ]
  },
  {
   "cell_type": "code",
   "execution_count": null,
   "metadata": {},
   "outputs": [],
   "source": [
    "#in next section for logistic regression we will be using  pandas' get dummies function. \n",
    "# you can work with either of these . \n",
    "#ignoring categories with low frequencies however will result in fewer columns without \n",
    "# affecting model performance too much .\n",
    "\n",
    "for col in cat_cols:\n",
    "    \n",
    "    freqs=ld_all[col].value_counts()\n",
    "    \n",
    "    k=freqs.index[freqs>20][:-1]\n",
    "    \n",
    "    for cat in k:\n",
    "        name=col+'_'+cat\n",
    "        ld_all[name]=(ld_all[col]==cat).astype(int)\n",
    "        \n",
    "    del ld_all[col]\n",
    "    print(col)\n",
    "    \n",
    "    \n",
    "    "
   ]
  },
  {
   "cell_type": "code",
   "execution_count": null,
   "metadata": {},
   "outputs": [],
   "source": [
    "ld_all.shape"
   ]
  },
  {
   "cell_type": "code",
   "execution_count": null,
   "metadata": {},
   "outputs": [],
   "source": [
    "ld_all.isnull().sum()"
   ]
  },
  {
   "cell_type": "code",
   "execution_count": null,
   "metadata": {},
   "outputs": [],
   "source": [
    "# ld_all.loc[ld_all['Monthly.Income']>5000,'Monthly.Income']\n"
   ]
  },
  {
   "cell_type": "code",
   "execution_count": null,
   "metadata": {},
   "outputs": [],
   "source": [
    "for col in ld_all.columns:\n",
    "    if (col not in ['Interest.Rate','data'])& (ld_all[col].isnull().sum()>0):\n",
    "        ld_all.loc[ld_all[col].isnull(),col]=ld_all.loc[ld_all['data']=='train',col].mean()"
   ]
  },
  {
   "cell_type": "code",
   "execution_count": null,
   "metadata": {},
   "outputs": [],
   "source": [
    "# ld_all.isnull().sum()"
   ]
  },
  {
   "cell_type": "code",
   "execution_count": null,
   "metadata": {},
   "outputs": [],
   "source": [
    "ld_train=ld_all[ld_all['data']=='train']\n",
    "del ld_train['data']\n",
    "ld_test=ld_all[ld_all['data']=='test']\n",
    "ld_test.drop(['Interest.Rate','data'],axis=1,inplace=True)"
   ]
  },
  {
   "cell_type": "code",
   "execution_count": null,
   "metadata": {},
   "outputs": [],
   "source": [
    "del ld_all"
   ]
  },
  {
   "cell_type": "code",
   "execution_count": null,
   "metadata": {},
   "outputs": [],
   "source": [
    "from sklearn.model_selection import train_test_split"
   ]
  },
  {
   "cell_type": "code",
   "execution_count": null,
   "metadata": {},
   "outputs": [],
   "source": [
    "ld_train1,ld_train2=train_test_split(ld_train,test_size=0.2,random_state=2)"
   ]
  },
  {
   "cell_type": "code",
   "execution_count": null,
   "metadata": {},
   "outputs": [],
   "source": [
    "# Notice that only train data is used for imputing missing values in both train and test \n",
    "x_train1=ld_train1.drop('Interest.Rate',axis=1)\n",
    "y_train1=ld_train1['Interest.Rate']"
   ]
  },
  {
   "cell_type": "code",
   "execution_count": null,
   "metadata": {},
   "outputs": [],
   "source": [
    "from sklearn.linear_model import LinearRegression"
   ]
  },
  {
   "cell_type": "code",
   "execution_count": null,
   "metadata": {},
   "outputs": [],
   "source": [
    "lm=LinearRegression()"
   ]
  },
  {
   "cell_type": "code",
   "execution_count": null,
   "metadata": {},
   "outputs": [],
   "source": [
    "lm.fit(x_train1,y_train1)"
   ]
  },
  {
   "cell_type": "code",
   "execution_count": null,
   "metadata": {},
   "outputs": [],
   "source": [
    "x_train1.shape"
   ]
  },
  {
   "cell_type": "code",
   "execution_count": null,
   "metadata": {},
   "outputs": [],
   "source": [
    "# this is beta_0\n",
    "lm.intercept_"
   ]
  },
  {
   "cell_type": "code",
   "execution_count": null,
   "metadata": {},
   "outputs": [],
   "source": [
    "lm.coef_"
   ]
  },
  {
   "cell_type": "code",
   "execution_count": null,
   "metadata": {},
   "outputs": [],
   "source": [
    "a=[1,2,3]\n",
    "b=[\"bg\",\"vj\",\"ngfxfng\"]"
   ]
  },
  {
   "cell_type": "code",
   "execution_count": null,
   "metadata": {},
   "outputs": [],
   "source": [
    "list(zip(a,b))"
   ]
  },
  {
   "cell_type": "code",
   "execution_count": null,
   "metadata": {},
   "outputs": [],
   "source": [
    "list(zip(x_train1.columns,lm.coef_))"
   ]
  },
  {
   "cell_type": "code",
   "execution_count": null,
   "metadata": {},
   "outputs": [],
   "source": [
    "x_train2=ld_train2.drop('Interest.Rate',axis=1)"
   ]
  },
  {
   "cell_type": "code",
   "execution_count": null,
   "metadata": {},
   "outputs": [],
   "source": [
    "predicted_ir=lm.predict(x_train2)"
   ]
  },
  {
   "cell_type": "code",
   "execution_count": null,
   "metadata": {},
   "outputs": [],
   "source": [
    "from sklearn.metrics import mean_absolute_error"
   ]
  },
  {
   "cell_type": "code",
   "execution_count": null,
   "metadata": {},
   "outputs": [],
   "source": [
    "mean_absolute_error(ld_train2['Interest.Rate'],predicted_ir)"
   ]
  },
  {
   "cell_type": "markdown",
   "metadata": {},
   "source": [
    "We know the tentative performance now, lets build the model on entire training to make prediction on test/production"
   ]
  },
  {
   "cell_type": "code",
   "execution_count": null,
   "metadata": {},
   "outputs": [],
   "source": [
    "x_train=ld_train.drop('Interest.Rate',axis=1)\n",
    "y_train=ld_train['Interest.Rate']"
   ]
  },
  {
   "cell_type": "code",
   "execution_count": null,
   "metadata": {},
   "outputs": [],
   "source": [
    "lm.fit(x_train,y_train)"
   ]
  },
  {
   "cell_type": "code",
   "execution_count": null,
   "metadata": {},
   "outputs": [],
   "source": [
    "test_pred=lm.predict(ld_test)"
   ]
  },
  {
   "cell_type": "markdown",
   "metadata": {},
   "source": [
    "We can write these to a csv file for submission like this :"
   ]
  },
  {
   "cell_type": "code",
   "execution_count": null,
   "metadata": {},
   "outputs": [],
   "source": [
    "# pd.DataFrame(test_pred).to_csv(\"mysubmission.csv\",index=False)"
   ]
  },
  {
   "cell_type": "code",
   "execution_count": null,
   "metadata": {},
   "outputs": [],
   "source": [
    "import os\n",
    "os.getcwd()"
   ]
  },
  {
   "cell_type": "markdown",
   "metadata": {},
   "source": [
    "# Ridge  Regression"
   ]
  },
  {
   "cell_type": "code",
   "execution_count": null,
   "metadata": {},
   "outputs": [],
   "source": [
    "from sklearn.linear_model import Ridge,Lasso\n",
    "from sklearn.model_selection import GridSearchCV"
   ]
  },
  {
   "cell_type": "code",
   "execution_count": null,
   "metadata": {},
   "outputs": [],
   "source": [
    "lambdas=np.linspace(1,100,100)"
   ]
  },
  {
   "cell_type": "code",
   "execution_count": null,
   "metadata": {},
   "outputs": [],
   "source": [
    "params={'alpha':lambdas}"
   ]
  },
  {
   "cell_type": "code",
   "execution_count": null,
   "metadata": {},
   "outputs": [],
   "source": [
    "model=Ridge(fit_intercept=True)"
   ]
  },
  {
   "cell_type": "code",
   "execution_count": null,
   "metadata": {},
   "outputs": [],
   "source": [
    "grid_search=GridSearchCV(model,\n",
    "                         param_grid=params,\n",
    "                         cv=10,\n",
    "                         scoring='neg_mean_absolute_error')"
   ]
  },
  {
   "cell_type": "code",
   "execution_count": null,
   "metadata": {},
   "outputs": [],
   "source": [
    "grid_search.fit(x_train,y_train)"
   ]
  },
  {
   "cell_type": "code",
   "execution_count": null,
   "metadata": {},
   "outputs": [],
   "source": [
    "import sklearn"
   ]
  },
  {
   "cell_type": "code",
   "execution_count": null,
   "metadata": {},
   "outputs": [],
   "source": [
    "sklearn.metrics.SCORERS.keys()"
   ]
  },
  {
   "cell_type": "code",
   "execution_count": null,
   "metadata": {},
   "outputs": [],
   "source": [
    "# statsmodels "
   ]
  },
  {
   "cell_type": "code",
   "execution_count": null,
   "metadata": {},
   "outputs": [],
   "source": [
    "grid_search.best_estimator_"
   ]
  },
  {
   "cell_type": "code",
   "execution_count": null,
   "metadata": {},
   "outputs": [],
   "source": [
    "# grid_search.cv_results_['std_test_score']"
   ]
  },
  {
   "cell_type": "markdown",
   "metadata": {},
   "source": [
    " if you want you can now fit a ridge regression model with obtained value of alpha , although there is no need, grid search automatically fits the best estimator on the entire data, you can directly use this to make predictions on test_data. But if you want to look at coefficients , its much more convenient to fit the model with direct function"
   ]
  },
  {
   "cell_type": "markdown",
   "metadata": {},
   "source": [
    "Using the report function given below you can see the cv performance of top few models as well, that will the tentative performance"
   ]
  },
  {
   "cell_type": "code",
   "execution_count": 9,
   "metadata": {},
   "outputs": [],
   "source": [
    "def report(results, n_top=3):\n",
    "    for i in range(1, n_top + 1):\n",
    "        candidates = np.flatnonzero(results['rank_test_score'] == i)\n",
    "        for candidate in candidates:\n",
    "            print(\"Model with rank: {0}\".format(i))\n",
    "            print(\"Mean validation score: {0:.5f} (std: {1:.5f})\".format(\n",
    "                  results['mean_test_score'][candidate],\n",
    "                  results['std_test_score'][candidate]))\n",
    "            print(\"Parameters: {0}\".format(results['params'][candidate]))\n",
    "            print(\"\")"
   ]
  },
  {
   "cell_type": "code",
   "execution_count": null,
   "metadata": {},
   "outputs": [],
   "source": [
    "report(grid_search.cv_results_,5)"
   ]
  },
  {
   "cell_type": "code",
   "execution_count": null,
   "metadata": {},
   "outputs": [],
   "source": [
    "test_pred=grid_search.predict(ld_test)"
   ]
  },
  {
   "cell_type": "code",
   "execution_count": null,
   "metadata": {},
   "outputs": [],
   "source": [
    "pd.DataFrame(test_pred).to_csv(\"mysubmission.csv\",index=False)"
   ]
  },
  {
   "cell_type": "markdown",
   "metadata": {},
   "source": [
    "## For looking at coefficients"
   ]
  },
  {
   "cell_type": "code",
   "execution_count": null,
   "metadata": {},
   "outputs": [],
   "source": [
    "grid_search.best_estimator_"
   ]
  },
  {
   "cell_type": "code",
   "execution_count": null,
   "metadata": {},
   "outputs": [],
   "source": [
    "ridge_model=grid_search.best_estimator_"
   ]
  },
  {
   "cell_type": "code",
   "execution_count": null,
   "metadata": {},
   "outputs": [],
   "source": [
    "ridge_model.fit(x_train,y_train)"
   ]
  },
  {
   "cell_type": "code",
   "execution_count": null,
   "metadata": {},
   "outputs": [],
   "source": [
    "list(zip(x_train1.columns,ridge_model.coef_))"
   ]
  },
  {
   "cell_type": "markdown",
   "metadata": {},
   "source": [
    "## Lasso Regression"
   ]
  },
  {
   "cell_type": "code",
   "execution_count": null,
   "metadata": {},
   "outputs": [],
   "source": [
    "lambdas=np.linspace(1,10,100)\n",
    "model=Lasso(fit_intercept=True)\n",
    "params={'alpha':lambdas}"
   ]
  },
  {
   "cell_type": "code",
   "execution_count": null,
   "metadata": {},
   "outputs": [],
   "source": [
    "grid_search=GridSearchCV(model,param_grid=params,cv=10,\n",
    "                         scoring='neg_mean_absolute_error')"
   ]
  },
  {
   "cell_type": "code",
   "execution_count": null,
   "metadata": {},
   "outputs": [],
   "source": [
    "grid_search.fit(x_train,y_train)"
   ]
  },
  {
   "cell_type": "code",
   "execution_count": null,
   "metadata": {},
   "outputs": [],
   "source": [
    "grid_search.best_estimator_"
   ]
  },
  {
   "cell_type": "markdown",
   "metadata": {},
   "source": [
    "you can see that, the best value of alpha comes at the edge of the range that we tried , we should expand the trial range on that side and run this again"
   ]
  },
  {
   "cell_type": "code",
   "execution_count": null,
   "metadata": {},
   "outputs": [],
   "source": [
    "lambdas=np.linspace(.001,2,100)\n",
    "params={'alpha':lambdas}"
   ]
  },
  {
   "cell_type": "code",
   "execution_count": null,
   "metadata": {},
   "outputs": [],
   "source": [
    "grid_search=GridSearchCV(model,param_grid=params,cv=10,scoring='neg_mean_absolute_error')\n",
    "grid_search.fit(x_train,y_train)"
   ]
  },
  {
   "cell_type": "code",
   "execution_count": null,
   "metadata": {},
   "outputs": [],
   "source": [
    "grid_search.best_estimator_"
   ]
  },
  {
   "cell_type": "code",
   "execution_count": null,
   "metadata": {},
   "outputs": [],
   "source": [
    "report(grid_search.cv_results_,5)"
   ]
  },
  {
   "cell_type": "code",
   "execution_count": null,
   "metadata": {},
   "outputs": [],
   "source": [
    "lasso_model=grid_search.best_estimator_"
   ]
  },
  {
   "cell_type": "code",
   "execution_count": null,
   "metadata": {},
   "outputs": [],
   "source": [
    "lasso_model.fit(x_train,y_train)"
   ]
  },
  {
   "cell_type": "code",
   "execution_count": null,
   "metadata": {},
   "outputs": [],
   "source": [
    "list(zip(x_train.columns,lasso_model.coef_))"
   ]
  },
  {
   "cell_type": "code",
   "execution_count": null,
   "metadata": {},
   "outputs": [],
   "source": [
    "(lasso_model.coef_==0).sum()"
   ]
  },
  {
   "cell_type": "code",
   "execution_count": null,
   "metadata": {},
   "outputs": [],
   "source": [
    "x_train.shape"
   ]
  },
  {
   "cell_type": "markdown",
   "metadata": {},
   "source": [
    "# Logistic Regression"
   ]
  },
  {
   "cell_type": "code",
   "execution_count": 1,
   "metadata": {},
   "outputs": [],
   "source": [
    "import numpy as np\n",
    "import pandas as pd"
   ]
  },
  {
   "cell_type": "code",
   "execution_count": 2,
   "metadata": {},
   "outputs": [],
   "source": [
    "train_file=r'~/Dropbox/0.0 Data/rg_train.csv'\n",
    "test_file=r'~/Dropbox/0.0 Data/rg_test.csv'\n",
    "bd_train=pd.read_csv(train_file)\n",
    "\n",
    "bd_test=pd.read_csv(test_file)"
   ]
  },
  {
   "cell_type": "code",
   "execution_count": 6,
   "metadata": {},
   "outputs": [
    {
     "data": {
      "text/plain": [
       "2    0.893772\n",
       "1    0.106228\n",
       "Name: Revenue.Grid, dtype: float64"
      ]
     },
     "execution_count": 6,
     "metadata": {},
     "output_type": "execute_result"
    }
   ],
   "source": [
    "bd_train['Revenue.Grid'].value_counts(normalize=True)"
   ]
  },
  {
   "cell_type": "code",
   "execution_count": 10,
   "metadata": {},
   "outputs": [],
   "source": [
    "# bd_test['Revenue.Grid']=np.nan\n",
    "bd_train['data']='train'\n",
    "bd_test['data']='test'\n",
    "# bd_test=bd_test[bd_train.columns]\n",
    "bd_all=pd.concat([bd_train,bd_test],axis=0)"
   ]
  },
  {
   "cell_type": "code",
   "execution_count": 11,
   "metadata": {},
   "outputs": [
    {
     "data": {
      "text/plain": [
       "2.0    7261\n",
       "1.0     863\n",
       "Name: Revenue.Grid, dtype: int64"
      ]
     },
     "execution_count": 11,
     "metadata": {},
     "output_type": "execute_result"
    }
   ],
   "source": [
    "bd_all['Revenue.Grid'].value_counts()"
   ]
  },
  {
   "cell_type": "code",
   "execution_count": 12,
   "metadata": {},
   "outputs": [
    {
     "data": {
      "text/plain": [
       "[('Average.A.C.Balance', dtype('float64'), 2223),\n",
       " ('Average.Credit.Card.Transaction', dtype('float64'), 1411),\n",
       " ('Balance.Transfer', dtype('float64'), 2183),\n",
       " ('Home.Loan', dtype('float64'), 884),\n",
       " ('Investment.Tax.Saving.Bond', dtype('float64'), 832),\n",
       " ('Investment.in.Commudity', dtype('float64'), 3558),\n",
       " ('Investment.in.Derivative', dtype('float64'), 3796),\n",
       " ('Investment.in.Equity', dtype('float64'), 3250),\n",
       " ('Investment.in.Mutual.Fund', dtype('float64'), 2470),\n",
       " ('Life.Insurance', dtype('float64'), 3111),\n",
       " ('Medical.Insurance', dtype('float64'), 1589),\n",
       " ('Online.Purchase.Amount', dtype('float64'), 1319),\n",
       " ('Personal.Loan', dtype('float64'), 1760),\n",
       " ('Portfolio.Balance', dtype('float64'), 8317),\n",
       " ('REF_NO', dtype('int64'), 10155),\n",
       " ('Revenue.Grid', dtype('float64'), 2),\n",
       " ('TVarea', dtype('O'), 14),\n",
       " ('Term.Deposit', dtype('float64'), 1419),\n",
       " ('age_band', dtype('O'), 13),\n",
       " ('children', dtype('O'), 5),\n",
       " ('data', dtype('O'), 2),\n",
       " ('family_income', dtype('O'), 13),\n",
       " ('gender', dtype('O'), 3),\n",
       " ('home_status', dtype('O'), 5),\n",
       " ('occupation', dtype('O'), 9),\n",
       " ('occupation_partner', dtype('O'), 9),\n",
       " ('post_area', dtype('O'), 2039),\n",
       " ('post_code', dtype('O'), 10040),\n",
       " ('region', dtype('O'), 13),\n",
       " ('self_employed', dtype('O'), 2),\n",
       " ('self_employed_partner', dtype('O'), 2),\n",
       " ('status', dtype('O'), 5),\n",
       " ('year_last_moved', dtype('int64'), 95)]"
      ]
     },
     "execution_count": 12,
     "metadata": {},
     "output_type": "execute_result"
    }
   ],
   "source": [
    "list(zip(bd_all.columns,bd_all.dtypes,bd_all.nunique()))"
   ]
  },
  {
   "cell_type": "code",
   "execution_count": 16,
   "metadata": {},
   "outputs": [
    {
     "data": {
      "text/plain": [
       "Zero    6208\n",
       "1       1848\n",
       "2       1607\n",
       "3        473\n",
       "4+        19\n",
       "Name: children, dtype: int64"
      ]
     },
     "execution_count": 16,
     "metadata": {},
     "output_type": "execute_result"
    }
   ],
   "source": [
    "# bd_all['post_code'].describe()\n",
    "bd_all['children'].value_counts(dropna=False)"
   ]
  },
  {
   "cell_type": "code",
   "execution_count": 20,
   "metadata": {},
   "outputs": [],
   "source": [
    "# bd_all['family_income'].value_counts()"
   ]
  },
  {
   "cell_type": "code",
   "execution_count": 21,
   "metadata": {},
   "outputs": [],
   "source": [
    "# REF_NO,post_code , post_area  : drop \n",
    "# children : Zero : 0 , 4+ : 4 and then convert to numeric\n",
    "# age_band : dummies \n",
    "# status , occupation , occupation_partner , home_status,family_income : dummies\n",
    "# self_employed, ` : dummies\n",
    "# TVArea , Region , gender : dummies\n",
    "# Revenue Grid : 1,2 : 1,0\n",
    "\n",
    "# try another iteration of this where you convert \n",
    "# age_band and family_income to numeric columns"
   ]
  },
  {
   "cell_type": "code",
   "execution_count": 22,
   "metadata": {},
   "outputs": [],
   "source": [
    "bd_all.drop(['REF_NO','post_code','post_area'],axis=1,inplace=True)"
   ]
  },
  {
   "cell_type": "code",
   "execution_count": 23,
   "metadata": {},
   "outputs": [],
   "source": [
    "bd_all['children']=np.where(bd_all['children']=='Zero',0,\n",
    "                            bd_all['children'])\n",
    "bd_all['children']=np.where(bd_all['children'].str[:1]=='4',4,\n",
    "                            bd_all['children'])\n",
    "bd_all['children']=pd.to_numeric(bd_all['children'],errors='coerce')"
   ]
  },
  {
   "cell_type": "code",
   "execution_count": 24,
   "metadata": {},
   "outputs": [],
   "source": [
    "bd_all['Revenue.Grid']=(bd_all['Revenue.Grid']==1).astype(int)"
   ]
  },
  {
   "cell_type": "code",
   "execution_count": 25,
   "metadata": {},
   "outputs": [],
   "source": [
    "cat_vars=bd_all.select_dtypes(['object']).columns\n"
   ]
  },
  {
   "cell_type": "code",
   "execution_count": 26,
   "metadata": {},
   "outputs": [
    {
     "data": {
      "text/plain": [
       "Index(['TVarea', 'age_band', 'data', 'family_income', 'gender', 'home_status',\n",
       "       'occupation', 'occupation_partner', 'region', 'self_employed',\n",
       "       'self_employed_partner', 'status'],\n",
       "      dtype='object')"
      ]
     },
     "execution_count": 26,
     "metadata": {},
     "output_type": "execute_result"
    }
   ],
   "source": [
    "cat_vars"
   ]
  },
  {
   "cell_type": "code",
   "execution_count": 27,
   "metadata": {},
   "outputs": [],
   "source": [
    "cat_vars=list(cat_vars)\n",
    "cat_vars.remove('data')"
   ]
  },
  {
   "cell_type": "code",
   "execution_count": 33,
   "metadata": {},
   "outputs": [],
   "source": [
    "# pd.get_dummies(bd_all['region'],prefix='region',drop_first=True)"
   ]
  },
  {
   "cell_type": "code",
   "execution_count": 34,
   "metadata": {},
   "outputs": [
    {
     "name": "stdout",
     "output_type": "stream",
     "text": [
      "TVarea\n",
      "age_band\n",
      "family_income\n",
      "gender\n",
      "home_status\n",
      "occupation\n",
      "occupation_partner\n",
      "region\n",
      "self_employed\n",
      "self_employed_partner\n",
      "status\n"
     ]
    }
   ],
   "source": [
    "for col in cat_vars:\n",
    "    \n",
    "    dummy=pd.get_dummies(bd_all[col],drop_first=True,prefix=col)\n",
    "    \n",
    "    bd_all=pd.concat([bd_all,dummy],axis=1)\n",
    "    \n",
    "    del bd_all[col]\n",
    "    print(col)\n",
    "\n",
    "del dummy"
   ]
  },
  {
   "cell_type": "code",
   "execution_count": 35,
   "metadata": {},
   "outputs": [
    {
     "data": {
      "text/plain": [
       "(10155, 96)"
      ]
     },
     "execution_count": 35,
     "metadata": {},
     "output_type": "execute_result"
    }
   ],
   "source": [
    "bd_all.shape"
   ]
  },
  {
   "cell_type": "code",
   "execution_count": 36,
   "metadata": {},
   "outputs": [
    {
     "data": {
      "text/plain": [
       "0"
      ]
     },
     "execution_count": 36,
     "metadata": {},
     "output_type": "execute_result"
    }
   ],
   "source": [
    "bd_all.isnull().sum().sum()"
   ]
  },
  {
   "cell_type": "code",
   "execution_count": 37,
   "metadata": {},
   "outputs": [],
   "source": [
    "bd_train=bd_all[bd_all['data']=='train']\n",
    "del bd_train['data']\n",
    "bd_test=bd_all[bd_all['data']=='test']\n",
    "bd_test.drop(['Revenue.Grid','data'],axis=1,inplace=True)"
   ]
  },
  {
   "cell_type": "code",
   "execution_count": 38,
   "metadata": {},
   "outputs": [],
   "source": [
    "from sklearn.linear_model import LogisticRegression"
   ]
  },
  {
   "cell_type": "code",
   "execution_count": 39,
   "metadata": {},
   "outputs": [],
   "source": [
    "params={'class_weight':['balanced',None],\n",
    "        'penalty':['l1','l2'],\n",
    "        'C':np.linspace(0.01,1000,10)}"
   ]
  },
  {
   "cell_type": "code",
   "execution_count": 40,
   "metadata": {},
   "outputs": [
    {
     "data": {
      "text/plain": [
       "40"
      ]
     },
     "execution_count": 40,
     "metadata": {},
     "output_type": "execute_result"
    }
   ],
   "source": [
    "2*2*10"
   ]
  },
  {
   "cell_type": "code",
   "execution_count": 41,
   "metadata": {},
   "outputs": [],
   "source": [
    "model=LogisticRegression(fit_intercept=True)"
   ]
  },
  {
   "cell_type": "code",
   "execution_count": 42,
   "metadata": {},
   "outputs": [],
   "source": [
    "from sklearn.model_selection import GridSearchCV"
   ]
  },
  {
   "cell_type": "code",
   "execution_count": 43,
   "metadata": {},
   "outputs": [],
   "source": [
    "grid_search=GridSearchCV(model,param_grid=params,cv=10,\n",
    "                         scoring=\"roc_auc\",n_jobs=-1,verbose=20)"
   ]
  },
  {
   "cell_type": "code",
   "execution_count": 44,
   "metadata": {},
   "outputs": [],
   "source": [
    "x_train=bd_train.drop('Revenue.Grid',axis=1)\n",
    "y_train=bd_train['Revenue.Grid']\n"
   ]
  },
  {
   "cell_type": "code",
   "execution_count": 45,
   "metadata": {
    "scrolled": true
   },
   "outputs": [
    {
     "name": "stdout",
     "output_type": "stream",
     "text": [
      "Fitting 10 folds for each of 40 candidates, totalling 400 fits\n"
     ]
    },
    {
     "name": "stderr",
     "output_type": "stream",
     "text": [
      "[Parallel(n_jobs=-1)]: Using backend LokyBackend with 12 concurrent workers.\n",
      "[Parallel(n_jobs=-1)]: Done   1 tasks      | elapsed:    2.4s\n",
      "[Parallel(n_jobs=-1)]: Done   2 tasks      | elapsed:    2.4s\n",
      "[Parallel(n_jobs=-1)]: Done   3 tasks      | elapsed:    2.4s\n",
      "[Parallel(n_jobs=-1)]: Done   4 tasks      | elapsed:    2.4s\n",
      "[Parallel(n_jobs=-1)]: Done   5 tasks      | elapsed:    2.5s\n",
      "[Parallel(n_jobs=-1)]: Done   6 tasks      | elapsed:    2.5s\n",
      "[Parallel(n_jobs=-1)]: Done   7 tasks      | elapsed:    2.5s\n",
      "[Parallel(n_jobs=-1)]: Done   8 tasks      | elapsed:    2.5s\n",
      "[Parallel(n_jobs=-1)]: Done   9 tasks      | elapsed:    2.6s\n",
      "[Parallel(n_jobs=-1)]: Done  10 tasks      | elapsed:    2.6s\n",
      "[Parallel(n_jobs=-1)]: Done  11 tasks      | elapsed:    2.8s\n",
      "[Parallel(n_jobs=-1)]: Done  12 tasks      | elapsed:    2.8s\n",
      "[Parallel(n_jobs=-1)]: Done  13 tasks      | elapsed:    2.8s\n",
      "[Parallel(n_jobs=-1)]: Done  14 tasks      | elapsed:    2.8s\n",
      "[Parallel(n_jobs=-1)]: Done  15 tasks      | elapsed:    2.9s\n",
      "[Parallel(n_jobs=-1)]: Done  16 tasks      | elapsed:    2.9s\n",
      "[Parallel(n_jobs=-1)]: Done  17 tasks      | elapsed:    3.0s\n",
      "[Parallel(n_jobs=-1)]: Done  18 tasks      | elapsed:    3.0s\n",
      "[Parallel(n_jobs=-1)]: Done  19 tasks      | elapsed:    3.0s\n",
      "[Parallel(n_jobs=-1)]: Done  20 tasks      | elapsed:    3.0s\n",
      "[Parallel(n_jobs=-1)]: Done  21 tasks      | elapsed:    3.0s\n",
      "[Parallel(n_jobs=-1)]: Done  22 tasks      | elapsed:    3.1s\n",
      "[Parallel(n_jobs=-1)]: Done  23 tasks      | elapsed:    3.1s\n",
      "[Parallel(n_jobs=-1)]: Done  24 tasks      | elapsed:    3.1s\n",
      "[Parallel(n_jobs=-1)]: Done  25 tasks      | elapsed:    3.1s\n",
      "[Parallel(n_jobs=-1)]: Done  26 tasks      | elapsed:    3.1s\n",
      "[Parallel(n_jobs=-1)]: Done  27 tasks      | elapsed:    3.1s\n",
      "[Parallel(n_jobs=-1)]: Done  28 tasks      | elapsed:    3.1s\n",
      "[Parallel(n_jobs=-1)]: Done  29 tasks      | elapsed:    3.2s\n",
      "[Parallel(n_jobs=-1)]: Done  30 tasks      | elapsed:    3.2s\n",
      "[Parallel(n_jobs=-1)]: Done  31 tasks      | elapsed:    3.4s\n",
      "[Parallel(n_jobs=-1)]: Done  32 tasks      | elapsed:    3.5s\n",
      "[Parallel(n_jobs=-1)]: Done  33 tasks      | elapsed:    3.5s\n",
      "[Parallel(n_jobs=-1)]: Done  34 tasks      | elapsed:    3.5s\n",
      "[Parallel(n_jobs=-1)]: Done  35 tasks      | elapsed:    3.5s\n",
      "[Parallel(n_jobs=-1)]: Done  36 tasks      | elapsed:    3.5s\n",
      "[Parallel(n_jobs=-1)]: Done  37 tasks      | elapsed:    3.6s\n",
      "[Parallel(n_jobs=-1)]: Done  38 tasks      | elapsed:    3.7s\n",
      "[Parallel(n_jobs=-1)]: Done  39 tasks      | elapsed:    3.7s\n",
      "[Parallel(n_jobs=-1)]: Done  40 tasks      | elapsed:    3.7s\n",
      "[Parallel(n_jobs=-1)]: Done  41 tasks      | elapsed:    5.8s\n",
      "[Parallel(n_jobs=-1)]: Done  42 tasks      | elapsed:    6.5s\n",
      "[Parallel(n_jobs=-1)]: Done  43 tasks      | elapsed:    7.5s\n",
      "[Parallel(n_jobs=-1)]: Done  44 tasks      | elapsed:    7.6s\n",
      "[Parallel(n_jobs=-1)]: Done  45 tasks      | elapsed:    7.8s\n",
      "[Parallel(n_jobs=-1)]: Done  46 tasks      | elapsed:    8.8s\n",
      "[Parallel(n_jobs=-1)]: Done  47 tasks      | elapsed:    9.2s\n",
      "[Parallel(n_jobs=-1)]: Done  48 tasks      | elapsed:    9.3s\n",
      "[Parallel(n_jobs=-1)]: Done  49 tasks      | elapsed:    9.4s\n",
      "[Parallel(n_jobs=-1)]: Done  50 tasks      | elapsed:    9.7s\n",
      "[Parallel(n_jobs=-1)]: Done  51 tasks      | elapsed:   10.1s\n",
      "[Parallel(n_jobs=-1)]: Done  52 tasks      | elapsed:   10.3s\n",
      "[Parallel(n_jobs=-1)]: Done  53 tasks      | elapsed:   10.3s\n",
      "[Parallel(n_jobs=-1)]: Done  54 tasks      | elapsed:   10.7s\n",
      "[Parallel(n_jobs=-1)]: Done  55 tasks      | elapsed:   11.0s\n",
      "[Parallel(n_jobs=-1)]: Done  56 tasks      | elapsed:   11.0s\n",
      "[Parallel(n_jobs=-1)]: Done  57 tasks      | elapsed:   11.4s\n",
      "[Parallel(n_jobs=-1)]: Done  58 tasks      | elapsed:   11.6s\n",
      "[Parallel(n_jobs=-1)]: Done  59 tasks      | elapsed:   11.6s\n",
      "[Parallel(n_jobs=-1)]: Done  60 tasks      | elapsed:   11.9s\n",
      "[Parallel(n_jobs=-1)]: Done  61 tasks      | elapsed:   11.9s\n",
      "[Parallel(n_jobs=-1)]: Done  62 tasks      | elapsed:   12.2s\n",
      "[Parallel(n_jobs=-1)]: Done  63 tasks      | elapsed:   12.2s\n",
      "[Parallel(n_jobs=-1)]: Done  64 tasks      | elapsed:   12.3s\n",
      "[Parallel(n_jobs=-1)]: Done  65 tasks      | elapsed:   12.4s\n",
      "[Parallel(n_jobs=-1)]: Done  66 tasks      | elapsed:   12.5s\n",
      "[Parallel(n_jobs=-1)]: Done  67 tasks      | elapsed:   12.8s\n",
      "[Parallel(n_jobs=-1)]: Done  68 tasks      | elapsed:   12.8s\n",
      "[Parallel(n_jobs=-1)]: Done  69 tasks      | elapsed:   12.9s\n",
      "[Parallel(n_jobs=-1)]: Done  70 tasks      | elapsed:   13.0s\n",
      "[Parallel(n_jobs=-1)]: Done  71 tasks      | elapsed:   13.1s\n",
      "[Parallel(n_jobs=-1)]: Done  72 tasks      | elapsed:   13.2s\n",
      "[Parallel(n_jobs=-1)]: Done  73 tasks      | elapsed:   13.2s\n",
      "[Parallel(n_jobs=-1)]: Done  74 tasks      | elapsed:   13.3s\n",
      "[Parallel(n_jobs=-1)]: Done  75 tasks      | elapsed:   13.3s\n",
      "[Parallel(n_jobs=-1)]: Done  76 tasks      | elapsed:   13.5s\n",
      "[Parallel(n_jobs=-1)]: Done  77 tasks      | elapsed:   13.5s\n",
      "[Parallel(n_jobs=-1)]: Done  78 tasks      | elapsed:   14.3s\n",
      "[Parallel(n_jobs=-1)]: Done  79 tasks      | elapsed:   14.4s\n",
      "[Parallel(n_jobs=-1)]: Done  80 tasks      | elapsed:   15.2s\n",
      "[Parallel(n_jobs=-1)]: Done  81 tasks      | elapsed:   16.6s\n",
      "[Parallel(n_jobs=-1)]: Done  82 tasks      | elapsed:   17.1s\n",
      "[Parallel(n_jobs=-1)]: Done  83 tasks      | elapsed:   18.1s\n",
      "[Parallel(n_jobs=-1)]: Done  84 tasks      | elapsed:   18.3s\n",
      "[Parallel(n_jobs=-1)]: Done  85 tasks      | elapsed:   18.4s\n",
      "[Parallel(n_jobs=-1)]: Done  86 tasks      | elapsed:   19.2s\n",
      "[Parallel(n_jobs=-1)]: Done  87 tasks      | elapsed:   19.4s\n",
      "[Parallel(n_jobs=-1)]: Done  88 tasks      | elapsed:   19.5s\n",
      "[Parallel(n_jobs=-1)]: Done  89 tasks      | elapsed:   19.7s\n",
      "[Parallel(n_jobs=-1)]: Done  90 tasks      | elapsed:   20.1s\n",
      "[Parallel(n_jobs=-1)]: Done  91 tasks      | elapsed:   20.3s\n",
      "[Parallel(n_jobs=-1)]: Done  92 tasks      | elapsed:   20.5s\n",
      "[Parallel(n_jobs=-1)]: Done  93 tasks      | elapsed:   20.7s\n",
      "[Parallel(n_jobs=-1)]: Done  94 tasks      | elapsed:   20.9s\n",
      "[Parallel(n_jobs=-1)]: Done  95 tasks      | elapsed:   21.4s\n",
      "[Parallel(n_jobs=-1)]: Done  96 tasks      | elapsed:   21.7s\n",
      "[Parallel(n_jobs=-1)]: Done  97 tasks      | elapsed:   21.9s\n",
      "[Parallel(n_jobs=-1)]: Done  98 tasks      | elapsed:   22.1s\n",
      "[Parallel(n_jobs=-1)]: Done  99 tasks      | elapsed:   22.2s\n",
      "[Parallel(n_jobs=-1)]: Done 100 tasks      | elapsed:   22.4s\n",
      "[Parallel(n_jobs=-1)]: Done 101 tasks      | elapsed:   22.5s\n",
      "[Parallel(n_jobs=-1)]: Done 102 tasks      | elapsed:   22.6s\n",
      "[Parallel(n_jobs=-1)]: Done 103 tasks      | elapsed:   22.7s\n",
      "[Parallel(n_jobs=-1)]: Done 104 tasks      | elapsed:   22.8s\n",
      "[Parallel(n_jobs=-1)]: Done 105 tasks      | elapsed:   22.9s\n",
      "[Parallel(n_jobs=-1)]: Done 106 tasks      | elapsed:   22.9s\n",
      "[Parallel(n_jobs=-1)]: Done 107 tasks      | elapsed:   23.2s\n",
      "[Parallel(n_jobs=-1)]: Done 108 tasks      | elapsed:   23.2s\n",
      "[Parallel(n_jobs=-1)]: Done 109 tasks      | elapsed:   23.3s\n",
      "[Parallel(n_jobs=-1)]: Done 110 tasks      | elapsed:   23.4s\n",
      "[Parallel(n_jobs=-1)]: Done 111 tasks      | elapsed:   23.4s\n",
      "[Parallel(n_jobs=-1)]: Done 112 tasks      | elapsed:   23.4s\n",
      "[Parallel(n_jobs=-1)]: Done 113 tasks      | elapsed:   23.6s\n",
      "[Parallel(n_jobs=-1)]: Done 114 tasks      | elapsed:   23.7s\n",
      "[Parallel(n_jobs=-1)]: Done 115 tasks      | elapsed:   23.9s\n",
      "[Parallel(n_jobs=-1)]: Done 116 tasks      | elapsed:   23.9s\n",
      "[Parallel(n_jobs=-1)]: Done 117 tasks      | elapsed:   24.0s\n",
      "[Parallel(n_jobs=-1)]: Done 118 tasks      | elapsed:   24.8s\n",
      "[Parallel(n_jobs=-1)]: Done 119 tasks      | elapsed:   25.4s\n",
      "[Parallel(n_jobs=-1)]: Done 120 tasks      | elapsed:   27.1s\n",
      "[Parallel(n_jobs=-1)]: Done 121 tasks      | elapsed:   28.1s\n",
      "[Parallel(n_jobs=-1)]: Done 122 tasks      | elapsed:   28.7s\n",
      "[Parallel(n_jobs=-1)]: Done 123 tasks      | elapsed:   29.7s\n",
      "[Parallel(n_jobs=-1)]: Done 124 tasks      | elapsed:   29.7s\n",
      "[Parallel(n_jobs=-1)]: Done 125 tasks      | elapsed:   30.1s\n",
      "[Parallel(n_jobs=-1)]: Done 126 tasks      | elapsed:   30.6s\n",
      "[Parallel(n_jobs=-1)]: Done 127 tasks      | elapsed:   31.1s\n",
      "[Parallel(n_jobs=-1)]: Done 128 tasks      | elapsed:   31.4s\n",
      "[Parallel(n_jobs=-1)]: Done 129 tasks      | elapsed:   31.5s\n",
      "[Parallel(n_jobs=-1)]: Done 130 tasks      | elapsed:   31.9s\n",
      "[Parallel(n_jobs=-1)]: Done 131 tasks      | elapsed:   32.0s\n"
     ]
    },
    {
     "name": "stderr",
     "output_type": "stream",
     "text": [
      "[Parallel(n_jobs=-1)]: Done 132 tasks      | elapsed:   32.4s\n",
      "[Parallel(n_jobs=-1)]: Done 133 tasks      | elapsed:   33.4s\n",
      "[Parallel(n_jobs=-1)]: Done 134 tasks      | elapsed:   33.4s\n",
      "[Parallel(n_jobs=-1)]: Done 135 tasks      | elapsed:   33.6s\n",
      "[Parallel(n_jobs=-1)]: Done 136 tasks      | elapsed:   33.7s\n",
      "[Parallel(n_jobs=-1)]: Done 137 tasks      | elapsed:   34.2s\n",
      "[Parallel(n_jobs=-1)]: Done 138 tasks      | elapsed:   34.4s\n",
      "[Parallel(n_jobs=-1)]: Done 139 tasks      | elapsed:   34.4s\n",
      "[Parallel(n_jobs=-1)]: Done 140 tasks      | elapsed:   34.5s\n",
      "[Parallel(n_jobs=-1)]: Done 141 tasks      | elapsed:   34.8s\n",
      "[Parallel(n_jobs=-1)]: Done 142 tasks      | elapsed:   35.0s\n",
      "[Parallel(n_jobs=-1)]: Done 143 tasks      | elapsed:   35.1s\n",
      "[Parallel(n_jobs=-1)]: Done 144 tasks      | elapsed:   35.1s\n",
      "[Parallel(n_jobs=-1)]: Done 145 tasks      | elapsed:   35.3s\n",
      "[Parallel(n_jobs=-1)]: Done 146 tasks      | elapsed:   35.4s\n",
      "[Parallel(n_jobs=-1)]: Done 147 tasks      | elapsed:   35.5s\n",
      "[Parallel(n_jobs=-1)]: Done 148 tasks      | elapsed:   35.7s\n",
      "[Parallel(n_jobs=-1)]: Done 149 tasks      | elapsed:   35.7s\n",
      "[Parallel(n_jobs=-1)]: Done 150 tasks      | elapsed:   35.7s\n",
      "[Parallel(n_jobs=-1)]: Done 151 tasks      | elapsed:   35.7s\n",
      "[Parallel(n_jobs=-1)]: Done 152 tasks      | elapsed:   35.9s\n",
      "[Parallel(n_jobs=-1)]: Done 153 tasks      | elapsed:   36.1s\n",
      "[Parallel(n_jobs=-1)]: Done 154 tasks      | elapsed:   36.2s\n",
      "[Parallel(n_jobs=-1)]: Done 155 tasks      | elapsed:   36.3s\n",
      "[Parallel(n_jobs=-1)]: Done 156 tasks      | elapsed:   36.3s\n",
      "[Parallel(n_jobs=-1)]: Done 157 tasks      | elapsed:   36.8s\n",
      "[Parallel(n_jobs=-1)]: Done 158 tasks      | elapsed:   36.9s\n",
      "[Parallel(n_jobs=-1)]: Done 159 tasks      | elapsed:   37.2s\n",
      "[Parallel(n_jobs=-1)]: Done 160 tasks      | elapsed:   37.5s\n",
      "[Parallel(n_jobs=-1)]: Done 161 tasks      | elapsed:   38.9s\n",
      "[Parallel(n_jobs=-1)]: Done 162 tasks      | elapsed:   39.7s\n",
      "[Parallel(n_jobs=-1)]: Done 163 tasks      | elapsed:   41.1s\n",
      "[Parallel(n_jobs=-1)]: Done 164 tasks      | elapsed:   41.2s\n",
      "[Parallel(n_jobs=-1)]: Done 165 tasks      | elapsed:   41.4s\n",
      "[Parallel(n_jobs=-1)]: Done 166 tasks      | elapsed:   42.2s\n",
      "[Parallel(n_jobs=-1)]: Done 167 tasks      | elapsed:   42.3s\n",
      "[Parallel(n_jobs=-1)]: Done 168 tasks      | elapsed:   42.4s\n",
      "[Parallel(n_jobs=-1)]: Done 169 tasks      | elapsed:   42.6s\n",
      "[Parallel(n_jobs=-1)]: Done 170 tasks      | elapsed:   42.6s\n",
      "[Parallel(n_jobs=-1)]: Done 171 tasks      | elapsed:   42.9s\n",
      "[Parallel(n_jobs=-1)]: Done 172 tasks      | elapsed:   43.4s\n",
      "[Parallel(n_jobs=-1)]: Done 173 tasks      | elapsed:   43.6s\n",
      "[Parallel(n_jobs=-1)]: Done 174 tasks      | elapsed:   44.0s\n",
      "[Parallel(n_jobs=-1)]: Done 175 tasks      | elapsed:   44.4s\n",
      "[Parallel(n_jobs=-1)]: Done 176 tasks      | elapsed:   44.6s\n",
      "[Parallel(n_jobs=-1)]: Done 177 tasks      | elapsed:   44.6s\n",
      "[Parallel(n_jobs=-1)]: Done 178 tasks      | elapsed:   45.1s\n",
      "[Parallel(n_jobs=-1)]: Done 179 tasks      | elapsed:   45.1s\n",
      "[Parallel(n_jobs=-1)]: Done 180 tasks      | elapsed:   45.2s\n",
      "[Parallel(n_jobs=-1)]: Done 181 tasks      | elapsed:   45.2s\n",
      "[Parallel(n_jobs=-1)]: Done 182 tasks      | elapsed:   45.3s\n",
      "[Parallel(n_jobs=-1)]: Done 183 tasks      | elapsed:   45.6s\n",
      "[Parallel(n_jobs=-1)]: Done 184 tasks      | elapsed:   45.7s\n",
      "[Parallel(n_jobs=-1)]: Done 185 tasks      | elapsed:   45.8s\n",
      "[Parallel(n_jobs=-1)]: Done 186 tasks      | elapsed:   46.0s\n",
      "[Parallel(n_jobs=-1)]: Done 187 tasks      | elapsed:   46.1s\n",
      "[Parallel(n_jobs=-1)]: Done 188 tasks      | elapsed:   46.2s\n",
      "[Parallel(n_jobs=-1)]: Done 189 tasks      | elapsed:   46.3s\n",
      "[Parallel(n_jobs=-1)]: Done 190 tasks      | elapsed:   46.3s\n",
      "[Parallel(n_jobs=-1)]: Done 191 tasks      | elapsed:   46.3s\n",
      "[Parallel(n_jobs=-1)]: Done 192 tasks      | elapsed:   46.5s\n",
      "[Parallel(n_jobs=-1)]: Done 193 tasks      | elapsed:   46.8s\n",
      "[Parallel(n_jobs=-1)]: Done 194 tasks      | elapsed:   46.8s\n",
      "[Parallel(n_jobs=-1)]: Done 195 tasks      | elapsed:   46.8s\n",
      "[Parallel(n_jobs=-1)]: Done 196 tasks      | elapsed:   47.0s\n",
      "[Parallel(n_jobs=-1)]: Done 197 tasks      | elapsed:   47.0s\n",
      "[Parallel(n_jobs=-1)]: Done 198 tasks      | elapsed:   47.5s\n",
      "[Parallel(n_jobs=-1)]: Done 199 tasks      | elapsed:   47.5s\n",
      "[Parallel(n_jobs=-1)]: Done 200 tasks      | elapsed:   47.6s\n",
      "[Parallel(n_jobs=-1)]: Done 201 tasks      | elapsed:   48.7s\n",
      "[Parallel(n_jobs=-1)]: Done 202 tasks      | elapsed:   49.9s\n",
      "[Parallel(n_jobs=-1)]: Done 203 tasks      | elapsed:   50.4s\n",
      "[Parallel(n_jobs=-1)]: Done 204 tasks      | elapsed:   51.9s\n",
      "[Parallel(n_jobs=-1)]: Done 205 tasks      | elapsed:   52.5s\n",
      "[Parallel(n_jobs=-1)]: Done 206 tasks      | elapsed:   53.1s\n",
      "[Parallel(n_jobs=-1)]: Done 207 tasks      | elapsed:   53.4s\n",
      "[Parallel(n_jobs=-1)]: Done 208 tasks      | elapsed:   53.4s\n",
      "[Parallel(n_jobs=-1)]: Done 209 tasks      | elapsed:   53.7s\n",
      "[Parallel(n_jobs=-1)]: Done 210 tasks      | elapsed:   53.8s\n",
      "[Parallel(n_jobs=-1)]: Done 211 tasks      | elapsed:   53.8s\n",
      "[Parallel(n_jobs=-1)]: Done 212 tasks      | elapsed:   54.2s\n",
      "[Parallel(n_jobs=-1)]: Done 213 tasks      | elapsed:   55.1s\n",
      "[Parallel(n_jobs=-1)]: Done 214 tasks      | elapsed:   55.2s\n",
      "[Parallel(n_jobs=-1)]: Done 215 tasks      | elapsed:   55.3s\n",
      "[Parallel(n_jobs=-1)]: Done 216 tasks      | elapsed:   55.4s\n",
      "[Parallel(n_jobs=-1)]: Done 217 tasks      | elapsed:   55.5s\n",
      "[Parallel(n_jobs=-1)]: Done 218 tasks      | elapsed:   55.9s\n",
      "[Parallel(n_jobs=-1)]: Done 219 tasks      | elapsed:   55.9s\n",
      "[Parallel(n_jobs=-1)]: Done 220 tasks      | elapsed:   55.9s\n",
      "[Parallel(n_jobs=-1)]: Done 221 tasks      | elapsed:   56.2s\n",
      "[Parallel(n_jobs=-1)]: Done 222 tasks      | elapsed:   56.5s\n",
      "[Parallel(n_jobs=-1)]: Done 223 tasks      | elapsed:   56.6s\n",
      "[Parallel(n_jobs=-1)]: Done 224 tasks      | elapsed:   56.7s\n",
      "[Parallel(n_jobs=-1)]: Done 225 tasks      | elapsed:   56.9s\n",
      "[Parallel(n_jobs=-1)]: Done 226 tasks      | elapsed:   57.1s\n",
      "[Parallel(n_jobs=-1)]: Done 227 tasks      | elapsed:   57.2s\n",
      "[Parallel(n_jobs=-1)]: Done 228 tasks      | elapsed:   57.2s\n",
      "[Parallel(n_jobs=-1)]: Done 229 tasks      | elapsed:   57.3s\n",
      "[Parallel(n_jobs=-1)]: Done 230 tasks      | elapsed:   57.3s\n",
      "[Parallel(n_jobs=-1)]: Done 231 tasks      | elapsed:   57.4s\n",
      "[Parallel(n_jobs=-1)]: Done 232 tasks      | elapsed:   57.5s\n",
      "[Parallel(n_jobs=-1)]: Done 233 tasks      | elapsed:   57.6s\n",
      "[Parallel(n_jobs=-1)]: Done 234 tasks      | elapsed:   57.7s\n",
      "[Parallel(n_jobs=-1)]: Done 235 tasks      | elapsed:   57.8s\n",
      "[Parallel(n_jobs=-1)]: Done 236 tasks      | elapsed:   57.9s\n",
      "[Parallel(n_jobs=-1)]: Done 237 tasks      | elapsed:   57.9s\n",
      "[Parallel(n_jobs=-1)]: Done 238 tasks      | elapsed:   58.0s\n",
      "[Parallel(n_jobs=-1)]: Done 239 tasks      | elapsed:   58.6s\n",
      "[Parallel(n_jobs=-1)]: Done 240 tasks      | elapsed:   59.5s\n",
      "[Parallel(n_jobs=-1)]: Done 241 tasks      | elapsed:  1.0min\n",
      "[Parallel(n_jobs=-1)]: Done 242 tasks      | elapsed:  1.0min\n",
      "[Parallel(n_jobs=-1)]: Done 243 tasks      | elapsed:  1.1min\n",
      "[Parallel(n_jobs=-1)]: Done 244 tasks      | elapsed:  1.1min\n",
      "[Parallel(n_jobs=-1)]: Done 245 tasks      | elapsed:  1.1min\n",
      "[Parallel(n_jobs=-1)]: Done 246 tasks      | elapsed:  1.1min\n",
      "[Parallel(n_jobs=-1)]: Done 247 tasks      | elapsed:  1.1min\n",
      "[Parallel(n_jobs=-1)]: Done 248 tasks      | elapsed:  1.1min\n",
      "[Parallel(n_jobs=-1)]: Done 249 tasks      | elapsed:  1.1min\n",
      "[Parallel(n_jobs=-1)]: Done 250 tasks      | elapsed:  1.1min\n",
      "[Parallel(n_jobs=-1)]: Done 251 tasks      | elapsed:  1.1min\n",
      "[Parallel(n_jobs=-1)]: Done 252 tasks      | elapsed:  1.1min\n",
      "[Parallel(n_jobs=-1)]: Done 253 tasks      | elapsed:  1.1min\n",
      "[Parallel(n_jobs=-1)]: Done 254 tasks      | elapsed:  1.1min\n",
      "[Parallel(n_jobs=-1)]: Done 255 tasks      | elapsed:  1.1min\n",
      "[Parallel(n_jobs=-1)]: Done 256 tasks      | elapsed:  1.1min\n",
      "[Parallel(n_jobs=-1)]: Done 257 tasks      | elapsed:  1.1min\n",
      "[Parallel(n_jobs=-1)]: Done 258 tasks      | elapsed:  1.1min\n",
      "[Parallel(n_jobs=-1)]: Done 259 tasks      | elapsed:  1.1min\n",
      "[Parallel(n_jobs=-1)]: Done 260 tasks      | elapsed:  1.1min\n",
      "[Parallel(n_jobs=-1)]: Done 261 tasks      | elapsed:  1.1min\n",
      "[Parallel(n_jobs=-1)]: Done 262 tasks      | elapsed:  1.1min\n",
      "[Parallel(n_jobs=-1)]: Done 263 tasks      | elapsed:  1.1min\n",
      "[Parallel(n_jobs=-1)]: Done 264 tasks      | elapsed:  1.1min\n",
      "[Parallel(n_jobs=-1)]: Done 265 tasks      | elapsed:  1.1min\n",
      "[Parallel(n_jobs=-1)]: Done 266 tasks      | elapsed:  1.1min\n"
     ]
    },
    {
     "name": "stderr",
     "output_type": "stream",
     "text": [
      "[Parallel(n_jobs=-1)]: Done 267 tasks      | elapsed:  1.1min\n",
      "[Parallel(n_jobs=-1)]: Done 268 tasks      | elapsed:  1.1min\n",
      "[Parallel(n_jobs=-1)]: Done 269 tasks      | elapsed:  1.1min\n",
      "[Parallel(n_jobs=-1)]: Done 270 tasks      | elapsed:  1.1min\n",
      "[Parallel(n_jobs=-1)]: Done 271 tasks      | elapsed:  1.1min\n",
      "[Parallel(n_jobs=-1)]: Done 272 tasks      | elapsed:  1.1min\n",
      "[Parallel(n_jobs=-1)]: Done 273 tasks      | elapsed:  1.2min\n",
      "[Parallel(n_jobs=-1)]: Done 274 tasks      | elapsed:  1.2min\n",
      "[Parallel(n_jobs=-1)]: Done 275 tasks      | elapsed:  1.2min\n",
      "[Parallel(n_jobs=-1)]: Done 276 tasks      | elapsed:  1.2min\n",
      "[Parallel(n_jobs=-1)]: Done 277 tasks      | elapsed:  1.2min\n",
      "[Parallel(n_jobs=-1)]: Done 278 tasks      | elapsed:  1.2min\n",
      "[Parallel(n_jobs=-1)]: Done 279 tasks      | elapsed:  1.2min\n",
      "[Parallel(n_jobs=-1)]: Done 280 tasks      | elapsed:  1.2min\n",
      "[Parallel(n_jobs=-1)]: Done 281 tasks      | elapsed:  1.2min\n",
      "[Parallel(n_jobs=-1)]: Done 282 tasks      | elapsed:  1.2min\n",
      "[Parallel(n_jobs=-1)]: Done 283 tasks      | elapsed:  1.2min\n",
      "[Parallel(n_jobs=-1)]: Done 284 tasks      | elapsed:  1.3min\n",
      "[Parallel(n_jobs=-1)]: Done 285 tasks      | elapsed:  1.3min\n",
      "[Parallel(n_jobs=-1)]: Done 286 tasks      | elapsed:  1.3min\n",
      "[Parallel(n_jobs=-1)]: Done 287 tasks      | elapsed:  1.3min\n",
      "[Parallel(n_jobs=-1)]: Done 288 tasks      | elapsed:  1.3min\n",
      "[Parallel(n_jobs=-1)]: Done 289 tasks      | elapsed:  1.3min\n",
      "[Parallel(n_jobs=-1)]: Done 290 tasks      | elapsed:  1.3min\n",
      "[Parallel(n_jobs=-1)]: Done 291 tasks      | elapsed:  1.3min\n",
      "[Parallel(n_jobs=-1)]: Done 292 tasks      | elapsed:  1.3min\n",
      "[Parallel(n_jobs=-1)]: Done 293 tasks      | elapsed:  1.3min\n",
      "[Parallel(n_jobs=-1)]: Done 294 tasks      | elapsed:  1.3min\n",
      "[Parallel(n_jobs=-1)]: Done 295 tasks      | elapsed:  1.3min\n",
      "[Parallel(n_jobs=-1)]: Done 296 tasks      | elapsed:  1.3min\n",
      "[Parallel(n_jobs=-1)]: Done 297 tasks      | elapsed:  1.3min\n",
      "[Parallel(n_jobs=-1)]: Done 298 tasks      | elapsed:  1.3min\n",
      "[Parallel(n_jobs=-1)]: Done 299 tasks      | elapsed:  1.3min\n",
      "[Parallel(n_jobs=-1)]: Done 300 tasks      | elapsed:  1.3min\n",
      "[Parallel(n_jobs=-1)]: Done 301 tasks      | elapsed:  1.3min\n",
      "[Parallel(n_jobs=-1)]: Done 302 tasks      | elapsed:  1.3min\n",
      "[Parallel(n_jobs=-1)]: Done 303 tasks      | elapsed:  1.3min\n",
      "[Parallel(n_jobs=-1)]: Done 304 tasks      | elapsed:  1.3min\n",
      "[Parallel(n_jobs=-1)]: Done 305 tasks      | elapsed:  1.3min\n",
      "[Parallel(n_jobs=-1)]: Done 306 tasks      | elapsed:  1.3min\n",
      "[Parallel(n_jobs=-1)]: Done 307 tasks      | elapsed:  1.3min\n",
      "[Parallel(n_jobs=-1)]: Done 308 tasks      | elapsed:  1.3min\n",
      "[Parallel(n_jobs=-1)]: Done 309 tasks      | elapsed:  1.3min\n",
      "[Parallel(n_jobs=-1)]: Done 310 tasks      | elapsed:  1.3min\n",
      "[Parallel(n_jobs=-1)]: Done 311 tasks      | elapsed:  1.3min\n",
      "[Parallel(n_jobs=-1)]: Done 312 tasks      | elapsed:  1.3min\n",
      "[Parallel(n_jobs=-1)]: Done 313 tasks      | elapsed:  1.3min\n",
      "[Parallel(n_jobs=-1)]: Done 314 tasks      | elapsed:  1.3min\n",
      "[Parallel(n_jobs=-1)]: Done 315 tasks      | elapsed:  1.3min\n",
      "[Parallel(n_jobs=-1)]: Done 316 tasks      | elapsed:  1.3min\n",
      "[Parallel(n_jobs=-1)]: Done 317 tasks      | elapsed:  1.3min\n",
      "[Parallel(n_jobs=-1)]: Done 318 tasks      | elapsed:  1.4min\n",
      "[Parallel(n_jobs=-1)]: Done 319 tasks      | elapsed:  1.4min\n",
      "[Parallel(n_jobs=-1)]: Done 320 tasks      | elapsed:  1.4min\n",
      "[Parallel(n_jobs=-1)]: Done 321 tasks      | elapsed:  1.4min\n",
      "[Parallel(n_jobs=-1)]: Done 322 tasks      | elapsed:  1.4min\n",
      "[Parallel(n_jobs=-1)]: Done 323 tasks      | elapsed:  1.4min\n",
      "[Parallel(n_jobs=-1)]: Done 324 tasks      | elapsed:  1.4min\n",
      "[Parallel(n_jobs=-1)]: Done 325 tasks      | elapsed:  1.4min\n",
      "[Parallel(n_jobs=-1)]: Done 326 tasks      | elapsed:  1.4min\n",
      "[Parallel(n_jobs=-1)]: Done 327 tasks      | elapsed:  1.5min\n",
      "[Parallel(n_jobs=-1)]: Done 328 tasks      | elapsed:  1.5min\n",
      "[Parallel(n_jobs=-1)]: Done 329 tasks      | elapsed:  1.5min\n",
      "[Parallel(n_jobs=-1)]: Done 330 tasks      | elapsed:  1.5min\n",
      "[Parallel(n_jobs=-1)]: Done 331 tasks      | elapsed:  1.5min\n",
      "[Parallel(n_jobs=-1)]: Done 332 tasks      | elapsed:  1.5min\n",
      "[Parallel(n_jobs=-1)]: Done 333 tasks      | elapsed:  1.5min\n",
      "[Parallel(n_jobs=-1)]: Done 334 tasks      | elapsed:  1.5min\n",
      "[Parallel(n_jobs=-1)]: Done 335 tasks      | elapsed:  1.5min\n",
      "[Parallel(n_jobs=-1)]: Done 336 tasks      | elapsed:  1.5min\n",
      "[Parallel(n_jobs=-1)]: Done 337 tasks      | elapsed:  1.5min\n",
      "[Parallel(n_jobs=-1)]: Done 338 tasks      | elapsed:  1.5min\n",
      "[Parallel(n_jobs=-1)]: Done 339 tasks      | elapsed:  1.5min\n",
      "[Parallel(n_jobs=-1)]: Done 340 tasks      | elapsed:  1.5min\n",
      "[Parallel(n_jobs=-1)]: Done 341 tasks      | elapsed:  1.5min\n",
      "[Parallel(n_jobs=-1)]: Done 342 tasks      | elapsed:  1.5min\n",
      "[Parallel(n_jobs=-1)]: Done 343 tasks      | elapsed:  1.5min\n",
      "[Parallel(n_jobs=-1)]: Done 344 tasks      | elapsed:  1.5min\n",
      "[Parallel(n_jobs=-1)]: Done 345 tasks      | elapsed:  1.5min\n",
      "[Parallel(n_jobs=-1)]: Done 346 tasks      | elapsed:  1.5min\n",
      "[Parallel(n_jobs=-1)]: Done 347 tasks      | elapsed:  1.5min\n",
      "[Parallel(n_jobs=-1)]: Done 348 tasks      | elapsed:  1.5min\n",
      "[Parallel(n_jobs=-1)]: Done 349 tasks      | elapsed:  1.5min\n",
      "[Parallel(n_jobs=-1)]: Done 350 tasks      | elapsed:  1.5min\n",
      "[Parallel(n_jobs=-1)]: Done 351 tasks      | elapsed:  1.5min\n",
      "[Parallel(n_jobs=-1)]: Done 352 tasks      | elapsed:  1.5min\n",
      "[Parallel(n_jobs=-1)]: Done 353 tasks      | elapsed:  1.5min\n",
      "[Parallel(n_jobs=-1)]: Done 354 tasks      | elapsed:  1.5min\n",
      "[Parallel(n_jobs=-1)]: Done 355 tasks      | elapsed:  1.5min\n",
      "[Parallel(n_jobs=-1)]: Done 356 tasks      | elapsed:  1.5min\n",
      "[Parallel(n_jobs=-1)]: Done 357 tasks      | elapsed:  1.5min\n",
      "[Parallel(n_jobs=-1)]: Done 358 tasks      | elapsed:  1.5min\n",
      "[Parallel(n_jobs=-1)]: Done 359 tasks      | elapsed:  1.5min\n",
      "[Parallel(n_jobs=-1)]: Done 360 tasks      | elapsed:  1.5min\n",
      "[Parallel(n_jobs=-1)]: Done 361 tasks      | elapsed:  1.6min\n",
      "[Parallel(n_jobs=-1)]: Done 362 tasks      | elapsed:  1.6min\n",
      "[Parallel(n_jobs=-1)]: Done 363 tasks      | elapsed:  1.6min\n",
      "[Parallel(n_jobs=-1)]: Done 364 tasks      | elapsed:  1.6min\n",
      "[Parallel(n_jobs=-1)]: Done 365 tasks      | elapsed:  1.6min\n",
      "[Parallel(n_jobs=-1)]: Done 366 tasks      | elapsed:  1.6min\n",
      "[Parallel(n_jobs=-1)]: Done 367 tasks      | elapsed:  1.6min\n",
      "[Parallel(n_jobs=-1)]: Done 368 tasks      | elapsed:  1.6min\n",
      "[Parallel(n_jobs=-1)]: Done 369 tasks      | elapsed:  1.6min\n",
      "[Parallel(n_jobs=-1)]: Done 370 tasks      | elapsed:  1.6min\n",
      "[Parallel(n_jobs=-1)]: Done 371 tasks      | elapsed:  1.6min\n",
      "[Parallel(n_jobs=-1)]: Done 372 tasks      | elapsed:  1.6min\n",
      "[Parallel(n_jobs=-1)]: Done 373 tasks      | elapsed:  1.6min\n",
      "[Parallel(n_jobs=-1)]: Done 374 tasks      | elapsed:  1.6min\n",
      "[Parallel(n_jobs=-1)]: Done 375 tasks      | elapsed:  1.6min\n",
      "[Parallel(n_jobs=-1)]: Done 376 tasks      | elapsed:  1.6min\n",
      "[Parallel(n_jobs=-1)]: Done 377 tasks      | elapsed:  1.6min\n",
      "[Parallel(n_jobs=-1)]: Done 398 out of 400 | elapsed:  1.7min remaining:    0.5s\n",
      "[Parallel(n_jobs=-1)]: Done 400 out of 400 | elapsed:  1.7min finished\n"
     ]
    },
    {
     "data": {
      "text/plain": [
       "GridSearchCV(cv=10, error_score='raise-deprecating',\n",
       "       estimator=LogisticRegression(C=1.0, class_weight=None, dual=False, fit_intercept=True,\n",
       "          intercept_scaling=1, max_iter=100, multi_class='warn',\n",
       "          n_jobs=None, penalty='l2', random_state=None, solver='warn',\n",
       "          tol=0.0001, verbose=0, warm_start=False),\n",
       "       fit_params=None, iid='warn', n_jobs=-1,\n",
       "       param_grid={'class_weight': ['balanced', None], 'penalty': ['l1', 'l2'], 'C': array([1.0000e-02, 1.1112e+02, 2.2223e+02, 3.3334e+02, 4.4445e+02,\n",
       "       5.5556e+02, 6.6667e+02, 7.7778e+02, 8.8889e+02, 1.0000e+03])},\n",
       "       pre_dispatch='2*n_jobs', refit=True, return_train_score='warn',\n",
       "       scoring='roc_auc', verbose=20)"
      ]
     },
     "execution_count": 45,
     "metadata": {},
     "output_type": "execute_result"
    }
   ],
   "source": [
    "grid_search.fit(x_train,y_train)"
   ]
  },
  {
   "cell_type": "code",
   "execution_count": 46,
   "metadata": {},
   "outputs": [
    {
     "data": {
      "text/plain": [
       "LogisticRegression(C=0.01, class_weight='balanced', dual=False,\n",
       "          fit_intercept=True, intercept_scaling=1, max_iter=100,\n",
       "          multi_class='warn', n_jobs=None, penalty='l1', random_state=None,\n",
       "          solver='warn', tol=0.0001, verbose=0, warm_start=False)"
      ]
     },
     "execution_count": 46,
     "metadata": {},
     "output_type": "execute_result"
    }
   ],
   "source": [
    "grid_search.best_estimator_"
   ]
  },
  {
   "cell_type": "code",
   "execution_count": 47,
   "metadata": {},
   "outputs": [],
   "source": [
    "logr=grid_search.best_estimator_"
   ]
  },
  {
   "cell_type": "code",
   "execution_count": 48,
   "metadata": {},
   "outputs": [
    {
     "name": "stdout",
     "output_type": "stream",
     "text": [
      "Model with rank: 1\n",
      "Mean validation score: 0.95471 (std: 0.01283)\n",
      "Parameters: {'C': 0.01, 'class_weight': 'balanced', 'penalty': 'l1'}\n",
      "\n",
      "Model with rank: 2\n",
      "Mean validation score: 0.95416 (std: 0.01296)\n",
      "Parameters: {'C': 0.01, 'class_weight': 'balanced', 'penalty': 'l2'}\n",
      "\n",
      "Model with rank: 3\n",
      "Mean validation score: 0.94884 (std: 0.01547)\n",
      "Parameters: {'C': 555.56, 'class_weight': 'balanced', 'penalty': 'l2'}\n",
      "\n",
      "Model with rank: 4\n",
      "Mean validation score: 0.94876 (std: 0.01544)\n",
      "Parameters: {'C': 1000.0, 'class_weight': 'balanced', 'penalty': 'l2'}\n",
      "\n",
      "Model with rank: 5\n",
      "Mean validation score: 0.94862 (std: 0.01521)\n",
      "Parameters: {'C': 666.67, 'class_weight': 'balanced', 'penalty': 'l2'}\n",
      "\n"
     ]
    }
   ],
   "source": [
    "report(grid_search.cv_results_,5)"
   ]
  },
  {
   "cell_type": "code",
   "execution_count": 49,
   "metadata": {},
   "outputs": [
    {
     "data": {
      "text/plain": [
       "LogisticRegression(C=0.01, class_weight='balanced', dual=False,\n",
       "          fit_intercept=True, intercept_scaling=1, max_iter=100,\n",
       "          multi_class='warn', n_jobs=None, penalty='l1', random_state=None,\n",
       "          solver='warn', tol=0.0001, verbose=0, warm_start=False)"
      ]
     },
     "execution_count": 49,
     "metadata": {},
     "output_type": "execute_result"
    }
   ],
   "source": [
    "logr.fit(x_train,y_train)"
   ]
  },
  {
   "cell_type": "code",
   "execution_count": 52,
   "metadata": {},
   "outputs": [
    {
     "data": {
      "text/plain": [
       "(8124, 94)"
      ]
     },
     "execution_count": 52,
     "metadata": {},
     "output_type": "execute_result"
    }
   ],
   "source": [
    "x_train.shape"
   ]
  },
  {
   "cell_type": "code",
   "execution_count": 50,
   "metadata": {},
   "outputs": [
    {
     "data": {
      "text/plain": [
       "81"
      ]
     },
     "execution_count": 50,
     "metadata": {},
     "output_type": "execute_result"
    }
   ],
   "source": [
    "(logr.coef_[0]==0).sum()"
   ]
  },
  {
   "cell_type": "code",
   "execution_count": 53,
   "metadata": {},
   "outputs": [],
   "source": [
    "list(zip(x_train.columns,logr.coef_[0]))"
   ]
  },
  {
   "cell_type": "code",
   "execution_count": 54,
   "metadata": {},
   "outputs": [
    {
     "data": {
      "text/plain": [
       "array([0.01, 0.02, 0.03, 0.04, 0.05, 0.06, 0.07, 0.08, 0.09, 0.1 , 0.11,\n",
       "       0.12, 0.13, 0.14, 0.15, 0.16, 0.17, 0.18, 0.19, 0.2 , 0.21, 0.22,\n",
       "       0.23, 0.24, 0.25, 0.26, 0.27, 0.28, 0.29, 0.3 , 0.31, 0.32, 0.33,\n",
       "       0.34, 0.35, 0.36, 0.37, 0.38, 0.39, 0.4 , 0.41, 0.42, 0.43, 0.44,\n",
       "       0.45, 0.46, 0.47, 0.48, 0.49, 0.5 , 0.51, 0.52, 0.53, 0.54, 0.55,\n",
       "       0.56, 0.57, 0.58, 0.59, 0.6 , 0.61, 0.62, 0.63, 0.64, 0.65, 0.66,\n",
       "       0.67, 0.68, 0.69, 0.7 , 0.71, 0.72, 0.73, 0.74, 0.75, 0.76, 0.77,\n",
       "       0.78, 0.79, 0.8 , 0.81, 0.82, 0.83, 0.84, 0.85, 0.86, 0.87, 0.88,\n",
       "       0.89, 0.9 , 0.91, 0.92, 0.93, 0.94, 0.95, 0.96, 0.97, 0.98, 0.99])"
      ]
     },
     "execution_count": 54,
     "metadata": {},
     "output_type": "execute_result"
    }
   ],
   "source": [
    "cutoffs=np.linspace(0.01,0.99,99)\n",
    "\n",
    "cutoffs"
   ]
  },
  {
   "cell_type": "code",
   "execution_count": 55,
   "metadata": {},
   "outputs": [
    {
     "data": {
      "text/plain": [
       "array([[0.99110361, 0.00889639],\n",
       "       [0.85537641, 0.14462359],\n",
       "       [0.95743783, 0.04256217],\n",
       "       ...,\n",
       "       [0.40540815, 0.59459185],\n",
       "       [0.94944107, 0.05055893],\n",
       "       [0.98027256, 0.01972744]])"
      ]
     },
     "execution_count": 55,
     "metadata": {},
     "output_type": "execute_result"
    }
   ],
   "source": [
    "logr.predict_proba(x_train)"
   ]
  },
  {
   "cell_type": "code",
   "execution_count": 56,
   "metadata": {},
   "outputs": [
    {
     "data": {
      "text/plain": [
       "array([0, 1])"
      ]
     },
     "execution_count": 56,
     "metadata": {},
     "output_type": "execute_result"
    }
   ],
   "source": [
    "logr.classes_"
   ]
  },
  {
   "cell_type": "code",
   "execution_count": 57,
   "metadata": {},
   "outputs": [],
   "source": [
    "train_score=logr.predict_proba(x_train)[:,1]\n",
    "real=y_train\n",
    " # In  order to find the probability of which column is for outcome 1 and which for outcome 0\n"
   ]
  },
  {
   "cell_type": "code",
   "execution_count": 58,
   "metadata": {},
   "outputs": [],
   "source": [
    "KS_all=[]\n",
    "\n",
    "\n",
    "for cutoff in cutoffs:\n",
    "    \n",
    "    predicted=(train_score>cutoff).astype(int)\n",
    "\n",
    "    TP=((predicted==1) & (real==1)).sum()\n",
    "    TN=((predicted==0) & (real==0)).sum()\n",
    "    FP=((predicted==1) & (real==0)).sum()\n",
    "    FN=((predicted==0) & (real==1)).sum()\n",
    "    \n",
    "    P=TP+FN\n",
    "    N=TN+FP\n",
    "    \n",
    "      \n",
    "    KS=(TP/P)-(FP/N)\n",
    "       \n",
    "    KS_all.append(KS)\n",
    "    \n",
    "        \n"
   ]
  },
  {
   "cell_type": "code",
   "execution_count": null,
   "metadata": {},
   "outputs": [],
   "source": [
    "# list(zip(cutoffs,KS_all))"
   ]
  },
  {
   "cell_type": "code",
   "execution_count": 59,
   "metadata": {},
   "outputs": [
    {
     "data": {
      "text/plain": [
       "0.5"
      ]
     },
     "execution_count": 59,
     "metadata": {},
     "output_type": "execute_result"
    }
   ],
   "source": [
    "mycutoff=cutoffs[KS_all==max(KS_all)][0]\n",
    "mycutoff"
   ]
  },
  {
   "cell_type": "code",
   "execution_count": null,
   "metadata": {},
   "outputs": [],
   "source": [
    "# logr.intercept_"
   ]
  },
  {
   "cell_type": "code",
   "execution_count": null,
   "metadata": {},
   "outputs": [],
   "source": [
    "# list(zip(x_train.columns,logr.coef_[0]))"
   ]
  },
  {
   "cell_type": "markdown",
   "metadata": {},
   "source": [
    "if you simply had to submit probability scores , you could do this "
   ]
  },
  {
   "cell_type": "code",
   "execution_count": null,
   "metadata": {},
   "outputs": [],
   "source": [
    "logr.predict_proba(bd_test)"
   ]
  },
  {
   "cell_type": "code",
   "execution_count": null,
   "metadata": {},
   "outputs": [],
   "source": [
    "test_score=logr.predict_proba(bd_test)[:,1]\n",
    "test_score"
   ]
  },
  {
   "cell_type": "code",
   "execution_count": null,
   "metadata": {},
   "outputs": [],
   "source": [
    "# pd.DataFrame(test_score).to_csv(\"mysubmission.csv\",index=False)"
   ]
  },
  {
   "cell_type": "markdown",
   "metadata": {},
   "source": [
    "if you had to submit hardclasses , you can apply the cutoff obtained above and then submit"
   ]
  },
  {
   "cell_type": "code",
   "execution_count": null,
   "metadata": {},
   "outputs": [],
   "source": [
    "test_classes=(test_score>mycutoff).astype(int)"
   ]
  },
  {
   "cell_type": "code",
   "execution_count": null,
   "metadata": {},
   "outputs": [],
   "source": [
    "# pd.DataFrame(test_classes).to_csv(\"mysubmission.csv\",index=False)"
   ]
  },
  {
   "cell_type": "code",
   "execution_count": null,
   "metadata": {},
   "outputs": [],
   "source": []
  }
 ],
 "metadata": {
  "kernelspec": {
   "display_name": "Python 3",
   "language": "python",
   "name": "python3"
  },
  "language_info": {
   "codemirror_mode": {
    "name": "ipython",
    "version": 3
   },
   "file_extension": ".py",
   "mimetype": "text/x-python",
   "name": "python",
   "nbconvert_exporter": "python",
   "pygments_lexer": "ipython3",
   "version": "3.7.3"
  }
 },
 "nbformat": 4,
 "nbformat_minor": 2
}
